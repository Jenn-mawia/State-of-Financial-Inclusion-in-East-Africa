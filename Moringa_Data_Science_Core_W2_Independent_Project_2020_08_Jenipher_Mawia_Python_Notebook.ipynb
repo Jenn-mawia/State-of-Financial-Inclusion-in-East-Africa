{
  "nbformat": 4,
  "nbformat_minor": 0,
  "metadata": {
    "colab": {
      "name": "Moringa_Data_Science_Core_W2_Independent_Project_2020_08_Jenipher_Mawia_Python_Notebook",
      "provenance": [],
      "toc_visible": true,
      "authorship_tag": "ABX9TyOFlGs0/W1kbMSx7SqtgNQ4",
      "include_colab_link": true
    },
    "kernelspec": {
      "name": "python3",
      "display_name": "Python 3"
    }
  },
  "cells": [
    {
      "cell_type": "markdown",
      "metadata": {
        "id": "view-in-github",
        "colab_type": "text"
      },
      "source": [
        "<a href=\"https://colab.research.google.com/github/Jenn-mawia/State-of-Financial-Inclusion-in-East-Africa/blob/master/Moringa_Data_Science_Core_W2_Independent_Project_2020_08_Jenipher_Mawia_Python_Notebook.ipynb\" target=\"_parent\"><img src=\"https://colab.research.google.com/assets/colab-badge.svg\" alt=\"Open In Colab\"/></a>"
      ]
    },
    {
      "cell_type": "markdown",
      "metadata": {
        "id": "G-lA-QvlRQXZ",
        "colab_type": "text"
      },
      "source": [
        "# Defining the question"
      ]
    },
    {
      "cell_type": "markdown",
      "metadata": {
        "id": "I_tU0UIuRm90",
        "colab_type": "text"
      },
      "source": [
        "## Specifiying the data analytic question"
      ]
    },
    {
      "cell_type": "markdown",
      "metadata": {
        "id": "SnK5I1JFR3A5",
        "colab_type": "text"
      },
      "source": [
        "Research questions: \n",
        "\n",
        "Find out how we can predict which individuals are most likely to have or use a bank account. "
      ]
    },
    {
      "cell_type": "markdown",
      "metadata": {
        "id": "7Wm_2bWTSbvV",
        "colab_type": "text"
      },
      "source": [
        "## Defining the metric for success"
      ]
    },
    {
      "cell_type": "markdown",
      "metadata": {
        "id": "9hqLA7VcilyN",
        "colab_type": "text"
      },
      "source": [
        "The objectives of this project will be met if the following can be determined:\n",
        "- Insight into the state of financial inclusion in the countries: Kenya, Uganda, Rwanda, Tanzania\n",
        "- Insight into some of the key demographic factos that might drive an individual's financial outcomes\n",
        "- Prediction of individuals most likely to have or use a bank account"
      ]
    },
    {
      "cell_type": "markdown",
      "metadata": {
        "id": "HH8riyxVSqBR",
        "colab_type": "text"
      },
      "source": [
        "## Understanding the context"
      ]
    },
    {
      "cell_type": "markdown",
      "metadata": {
        "id": "sjqVOlvsj-q9",
        "colab_type": "text"
      },
      "source": [
        "Financial Inclusion remains one of the main obstacles to economic and human development in Africa. For example, across Kenya, Rwanda, Tanzania, and Uganda only 9.1 million adults (or 13.9% of the adult population) have access to or use a commercial bank account.\n",
        "\n",
        "Traditionally, access to bank accounts has been regarded as an indicator of financial inclusion. Despite the proliferation of mobile money in Africa and the growth of innovative fintech solutions, banks still play a pivotal role in facilitating access to financial services. Access to bank accounts enables households to save and facilitate payments while also helping businesses build up their credit-worthiness and improve their access to other financial services. Therefore, access to bank accounts is an essential contributor to long-term economic growth."
      ]
    },
    {
      "cell_type": "markdown",
      "metadata": {
        "id": "_6vosIzvSxkp",
        "colab_type": "text"
      },
      "source": [
        "## Recording the experimental design taken "
      ]
    },
    {
      "cell_type": "markdown",
      "metadata": {
        "id": "CJA9rVArkSqv",
        "colab_type": "text"
      },
      "source": [
        "1. Loading dataset\n",
        "2. Checking the dataset's shape, top, bottom, datatypes\n",
        "3. External data source validation\n",
        "4. Data Cleaning \n",
        "    - renaming column names & ensuring consistency in column names\n",
        "    - dropping unnecessary columns\n",
        "    - handling null values, duplicated records, outliers, anomalies\n",
        "5. Exploratory Data Analysis\n",
        "    - Univariate EDA \n",
        "    - Bivariate EDA\n",
        "        - analysis by country\n",
        "        - analysis by demographic factors\n",
        "    - Multivariate EDA\n",
        "\n",
        "\n"
      ]
    },
    {
      "cell_type": "markdown",
      "metadata": {
        "id": "3pyvb8FiS6zU",
        "colab_type": "text"
      },
      "source": [
        "## The appropriateness of the available data to answer the given question"
      ]
    },
    {
      "cell_type": "markdown",
      "metadata": {
        "id": "sMxyfDJhmRoj",
        "colab_type": "text"
      },
      "source": [
        "The available data is deemed as appropriate as the data contains all variables that will be required to perform analysis by country and by either demographic factors such as: age, gender, level of education, income level, area or residence, employment, marital status among other factors that influence an individuals financial outcomes."
      ]
    },
    {
      "cell_type": "markdown",
      "metadata": {
        "id": "LeNuWKUDTDZc",
        "colab_type": "text"
      },
      "source": [
        "# Reading the data"
      ]
    },
    {
      "cell_type": "code",
      "metadata": {
        "id": "Ra-_9BTTU_Ik",
        "colab_type": "code",
        "colab": {}
      },
      "source": [
        "# importing libraries\n",
        "\n",
        "import pandas as pd\n",
        "import numpy as np\n",
        "import matplotlib.pyplot as plt\n",
        "import seaborn as sns\n",
        "\n",
        "sns.set_style()"
      ],
      "execution_count": 160,
      "outputs": []
    },
    {
      "cell_type": "markdown",
      "metadata": {
        "id": "Y8EcWEfhVa3M",
        "colab_type": "text"
      },
      "source": [
        "The data used for the project contains demographic information and financial services used by individuals across East Africa. This data was extracted from various Finscope Surveys ranging from 2016-2018. More information about this surveys can be found here: \n",
        "\n",
        "- FinAccess Kenya 2018. [Link](https://fsdkenya.org/publication/finaccess2019/)\n",
        "- Finscope Rwanda 2016. [Link](http://www.statistics.gov.rw/publication/finscope-rwanda-2016)\n",
        "- Finscope Tanzania 2017. [Link](http://www.fsdt.or.tz/finscope/)\n",
        "- Finscope Uganda 2018. [Link](http://fsduganda.or.ug/finscope-2018-survey-report/)\n",
        "\n",
        "To upload the dataset onto the environment, download the dataset [here](http://bit.ly/FinancialDataset) go to, Table of contents > files > upload on Colab. "
      ]
    },
    {
      "cell_type": "code",
      "metadata": {
        "id": "7C4gS_jTVVQc",
        "colab_type": "code",
        "colab": {}
      },
      "source": [
        "# Attribute Information: \n",
        "\n",
        "# country - country interviewee is in\n",
        "# year - year survey was done\n",
        "# uniqueid - unique identifier for each interviewee\n",
        "# has_a_bank_account - if interviewee has a bank account : Yes/No\n",
        "# location_type - type of location : Rural, Urban\n",
        "# cellphone_access - if interviewee has access to cellphone: Yes/No\n",
        "# household_size - number of people living in one house\n",
        "# age_of_respondent - age of interviewee\n",
        "# gender_of_respondent - gender of interviewee: Male, Female\n",
        "# relationship_with_head - interviewee relationship with the head of the house: Head of Household, Spouse, Child, Parent, Other relative, Other non-relative, Don't know\n",
        "# marital_status - marital status of interviewee: Married/Living together, Divorced/Separated, Widowed, Single/Never Married, Don't know\n",
        "# education_level - highest level of education: No formal education, Primary education, Secondary education, Vocational/Specialised training, Tertiary education, Other/Don't know/RTA\n",
        "# job_type - type of job interviewee has: Farming and Fishing, Formally employed Government, Formally employed Private, Informally employed, Remittance Dependent, Government Dependent, Self employed, Other Income, No Income, Don't know/Refused to answer\n",
        "\n",
        "# reading the data\n",
        "\n",
        "financial = pd.read_csv(\"Financial Dataset - 1.csv\") \n"
      ],
      "execution_count": 161,
      "outputs": []
    },
    {
      "cell_type": "markdown",
      "metadata": {
        "id": "pIxxl39bg3xx",
        "colab_type": "text"
      },
      "source": [
        "# Checking the data"
      ]
    },
    {
      "cell_type": "code",
      "metadata": {
        "id": "ZIg2X5dKgXxt",
        "colab_type": "code",
        "colab": {
          "base_uri": "https://localhost:8080/",
          "height": 35
        },
        "outputId": "21682a76-5aa2-4822-d59d-0e8f0e839240"
      },
      "source": [
        "# number of rows and columns\n",
        "\n",
        "financial.shape"
      ],
      "execution_count": 162,
      "outputs": [
        {
          "output_type": "execute_result",
          "data": {
            "text/plain": [
              "(23524, 13)"
            ]
          },
          "metadata": {
            "tags": []
          },
          "execution_count": 162
        }
      ]
    },
    {
      "cell_type": "code",
      "metadata": {
        "id": "AHuW8ENahBlj",
        "colab_type": "code",
        "colab": {
          "base_uri": "https://localhost:8080/",
          "height": 374
        },
        "outputId": "b1e38ef9-e46b-4d04-8460-034c2d0bceed"
      },
      "source": [
        "# preview the top of the dataset\n",
        "financial.head()"
      ],
      "execution_count": 163,
      "outputs": [
        {
          "output_type": "execute_result",
          "data": {
            "text/html": [
              "<div>\n",
              "<style scoped>\n",
              "    .dataframe tbody tr th:only-of-type {\n",
              "        vertical-align: middle;\n",
              "    }\n",
              "\n",
              "    .dataframe tbody tr th {\n",
              "        vertical-align: top;\n",
              "    }\n",
              "\n",
              "    .dataframe thead th {\n",
              "        text-align: right;\n",
              "    }\n",
              "</style>\n",
              "<table border=\"1\" class=\"dataframe\">\n",
              "  <thead>\n",
              "    <tr style=\"text-align: right;\">\n",
              "      <th></th>\n",
              "      <th>country</th>\n",
              "      <th>year</th>\n",
              "      <th>uniqueid</th>\n",
              "      <th>Has a Bank account</th>\n",
              "      <th>Type of Location</th>\n",
              "      <th>Cell Phone Access</th>\n",
              "      <th>household_size</th>\n",
              "      <th>Respondent Age</th>\n",
              "      <th>gender_of_respondent</th>\n",
              "      <th>The relathip with head</th>\n",
              "      <th>marital_status</th>\n",
              "      <th>Level of Educuation</th>\n",
              "      <th>Type of Job</th>\n",
              "    </tr>\n",
              "  </thead>\n",
              "  <tbody>\n",
              "    <tr>\n",
              "      <th>0</th>\n",
              "      <td>Kenya</td>\n",
              "      <td>2018</td>\n",
              "      <td>uniqueid_1</td>\n",
              "      <td>Yes</td>\n",
              "      <td>Rural</td>\n",
              "      <td>Yes</td>\n",
              "      <td>3.0</td>\n",
              "      <td>24.0</td>\n",
              "      <td>Female</td>\n",
              "      <td>Spouse</td>\n",
              "      <td>Married/Living together</td>\n",
              "      <td>Secondary education</td>\n",
              "      <td>Self employed</td>\n",
              "    </tr>\n",
              "    <tr>\n",
              "      <th>1</th>\n",
              "      <td>Kenya</td>\n",
              "      <td>2018</td>\n",
              "      <td>uniqueid_2</td>\n",
              "      <td>No</td>\n",
              "      <td>Rural</td>\n",
              "      <td>No</td>\n",
              "      <td>5.0</td>\n",
              "      <td>70.0</td>\n",
              "      <td>Female</td>\n",
              "      <td>Head of Household</td>\n",
              "      <td>Widowed</td>\n",
              "      <td>No formal education</td>\n",
              "      <td>Government Dependent</td>\n",
              "    </tr>\n",
              "    <tr>\n",
              "      <th>2</th>\n",
              "      <td>Kenya</td>\n",
              "      <td>2018</td>\n",
              "      <td>uniqueid_3</td>\n",
              "      <td>Yes</td>\n",
              "      <td>Urban</td>\n",
              "      <td>Yes</td>\n",
              "      <td>5.0</td>\n",
              "      <td>26.0</td>\n",
              "      <td>Male</td>\n",
              "      <td>Other relative</td>\n",
              "      <td>Single/Never Married</td>\n",
              "      <td>Vocational/Specialised training</td>\n",
              "      <td>Self employed</td>\n",
              "    </tr>\n",
              "    <tr>\n",
              "      <th>3</th>\n",
              "      <td>Kenya</td>\n",
              "      <td>2018</td>\n",
              "      <td>uniqueid_4</td>\n",
              "      <td>No</td>\n",
              "      <td>Rural</td>\n",
              "      <td>Yes</td>\n",
              "      <td>5.0</td>\n",
              "      <td>34.0</td>\n",
              "      <td>Female</td>\n",
              "      <td>Head of Household</td>\n",
              "      <td>Married/Living together</td>\n",
              "      <td>Primary education</td>\n",
              "      <td>Formally employed Private</td>\n",
              "    </tr>\n",
              "    <tr>\n",
              "      <th>4</th>\n",
              "      <td>Kenya</td>\n",
              "      <td>2018</td>\n",
              "      <td>uniqueid_5</td>\n",
              "      <td>No</td>\n",
              "      <td>Urban</td>\n",
              "      <td>No</td>\n",
              "      <td>8.0</td>\n",
              "      <td>26.0</td>\n",
              "      <td>Male</td>\n",
              "      <td>Child</td>\n",
              "      <td>Single/Never Married</td>\n",
              "      <td>Primary education</td>\n",
              "      <td>Informally employed</td>\n",
              "    </tr>\n",
              "  </tbody>\n",
              "</table>\n",
              "</div>"
            ],
            "text/plain": [
              "  country  year  ...              Level of Educuation                Type of Job\n",
              "0   Kenya  2018  ...              Secondary education              Self employed\n",
              "1   Kenya  2018  ...              No formal education       Government Dependent\n",
              "2   Kenya  2018  ...  Vocational/Specialised training              Self employed\n",
              "3   Kenya  2018  ...                Primary education  Formally employed Private\n",
              "4   Kenya  2018  ...                Primary education        Informally employed\n",
              "\n",
              "[5 rows x 13 columns]"
            ]
          },
          "metadata": {
            "tags": []
          },
          "execution_count": 163
        }
      ]
    },
    {
      "cell_type": "code",
      "metadata": {
        "id": "NodSC4EqhKah",
        "colab_type": "code",
        "colab": {
          "base_uri": "https://localhost:8080/",
          "height": 356
        },
        "outputId": "9ac8e53e-e9fb-453d-def5-2615dee1c9ec"
      },
      "source": [
        "# previewing the bottom of the dataset\n",
        "financial.tail()"
      ],
      "execution_count": 164,
      "outputs": [
        {
          "output_type": "execute_result",
          "data": {
            "text/html": [
              "<div>\n",
              "<style scoped>\n",
              "    .dataframe tbody tr th:only-of-type {\n",
              "        vertical-align: middle;\n",
              "    }\n",
              "\n",
              "    .dataframe tbody tr th {\n",
              "        vertical-align: top;\n",
              "    }\n",
              "\n",
              "    .dataframe thead th {\n",
              "        text-align: right;\n",
              "    }\n",
              "</style>\n",
              "<table border=\"1\" class=\"dataframe\">\n",
              "  <thead>\n",
              "    <tr style=\"text-align: right;\">\n",
              "      <th></th>\n",
              "      <th>country</th>\n",
              "      <th>year</th>\n",
              "      <th>uniqueid</th>\n",
              "      <th>Has a Bank account</th>\n",
              "      <th>Type of Location</th>\n",
              "      <th>Cell Phone Access</th>\n",
              "      <th>household_size</th>\n",
              "      <th>Respondent Age</th>\n",
              "      <th>gender_of_respondent</th>\n",
              "      <th>The relathip with head</th>\n",
              "      <th>marital_status</th>\n",
              "      <th>Level of Educuation</th>\n",
              "      <th>Type of Job</th>\n",
              "    </tr>\n",
              "  </thead>\n",
              "  <tbody>\n",
              "    <tr>\n",
              "      <th>23519</th>\n",
              "      <td>Uganda</td>\n",
              "      <td>2018</td>\n",
              "      <td>uniqueid_2113</td>\n",
              "      <td>No</td>\n",
              "      <td>Rural</td>\n",
              "      <td>Yes</td>\n",
              "      <td>4.0</td>\n",
              "      <td>48.0</td>\n",
              "      <td>Female</td>\n",
              "      <td>Head of Household</td>\n",
              "      <td>Divorced/Seperated</td>\n",
              "      <td>No formal education</td>\n",
              "      <td>Other Income</td>\n",
              "    </tr>\n",
              "    <tr>\n",
              "      <th>23520</th>\n",
              "      <td>Uganda</td>\n",
              "      <td>2018</td>\n",
              "      <td>uniqueid_2114</td>\n",
              "      <td>No</td>\n",
              "      <td>Rural</td>\n",
              "      <td>Yes</td>\n",
              "      <td>2.0</td>\n",
              "      <td>27.0</td>\n",
              "      <td>Female</td>\n",
              "      <td>Head of Household</td>\n",
              "      <td>Single/Never Married</td>\n",
              "      <td>Secondary education</td>\n",
              "      <td>Other Income</td>\n",
              "    </tr>\n",
              "    <tr>\n",
              "      <th>23521</th>\n",
              "      <td>Uganda</td>\n",
              "      <td>2018</td>\n",
              "      <td>uniqueid_2115</td>\n",
              "      <td>No</td>\n",
              "      <td>Rural</td>\n",
              "      <td>Yes</td>\n",
              "      <td>5.0</td>\n",
              "      <td>27.0</td>\n",
              "      <td>Female</td>\n",
              "      <td>Parent</td>\n",
              "      <td>Widowed</td>\n",
              "      <td>Primary education</td>\n",
              "      <td>Other Income</td>\n",
              "    </tr>\n",
              "    <tr>\n",
              "      <th>23522</th>\n",
              "      <td>Uganda</td>\n",
              "      <td>2018</td>\n",
              "      <td>uniqueid_2116</td>\n",
              "      <td>No</td>\n",
              "      <td>Urban</td>\n",
              "      <td>Yes</td>\n",
              "      <td>7.0</td>\n",
              "      <td>30.0</td>\n",
              "      <td>Female</td>\n",
              "      <td>Parent</td>\n",
              "      <td>Divorced/Seperated</td>\n",
              "      <td>Secondary education</td>\n",
              "      <td>Self employed</td>\n",
              "    </tr>\n",
              "    <tr>\n",
              "      <th>23523</th>\n",
              "      <td>Uganda</td>\n",
              "      <td>2018</td>\n",
              "      <td>uniqueid_2117</td>\n",
              "      <td>No</td>\n",
              "      <td>Rural</td>\n",
              "      <td>Yes</td>\n",
              "      <td>10.0</td>\n",
              "      <td>20.0</td>\n",
              "      <td>Male</td>\n",
              "      <td>Child</td>\n",
              "      <td>Single/Never Married</td>\n",
              "      <td>Secondary education</td>\n",
              "      <td>No Income</td>\n",
              "    </tr>\n",
              "  </tbody>\n",
              "</table>\n",
              "</div>"
            ],
            "text/plain": [
              "      country  year  ...  Level of Educuation    Type of Job\n",
              "23519  Uganda  2018  ...  No formal education   Other Income\n",
              "23520  Uganda  2018  ...  Secondary education   Other Income\n",
              "23521  Uganda  2018  ...    Primary education   Other Income\n",
              "23522  Uganda  2018  ...  Secondary education  Self employed\n",
              "23523  Uganda  2018  ...  Secondary education      No Income\n",
              "\n",
              "[5 rows x 13 columns]"
            ]
          },
          "metadata": {
            "tags": []
          },
          "execution_count": 164
        }
      ]
    },
    {
      "cell_type": "code",
      "metadata": {
        "id": "I1dNICkGhRsV",
        "colab_type": "code",
        "colab": {
          "base_uri": "https://localhost:8080/",
          "height": 272
        },
        "outputId": "1e662471-6863-42bd-d94a-aebfcf2d6c0d"
      },
      "source": [
        "# checking whether each column has appropriate datatypes\n",
        "financial.dtypes"
      ],
      "execution_count": 165,
      "outputs": [
        {
          "output_type": "execute_result",
          "data": {
            "text/plain": [
              "country                    object\n",
              "year                        int64\n",
              "uniqueid                   object\n",
              "Has a Bank account         object\n",
              "Type of Location           object\n",
              "Cell Phone Access          object\n",
              "household_size            float64\n",
              "Respondent Age            float64\n",
              "gender_of_respondent       object\n",
              "The relathip with head     object\n",
              "marital_status             object\n",
              "Level of Educuation        object\n",
              "Type of Job                object\n",
              "dtype: object"
            ]
          },
          "metadata": {
            "tags": []
          },
          "execution_count": 165
        }
      ]
    },
    {
      "cell_type": "markdown",
      "metadata": {
        "id": "C8AUh59dh8Zw",
        "colab_type": "text"
      },
      "source": [
        "# External Data Source Validation"
      ]
    },
    {
      "cell_type": "code",
      "metadata": {
        "id": "IAoQhfR9hcEz",
        "colab_type": "code",
        "colab": {}
      },
      "source": [
        ""
      ],
      "execution_count": 165,
      "outputs": []
    },
    {
      "cell_type": "markdown",
      "metadata": {
        "id": "_5pzHWPeiPir",
        "colab_type": "text"
      },
      "source": [
        "# Data Cleaning"
      ]
    },
    {
      "cell_type": "code",
      "metadata": {
        "id": "pyl2jEpWiVGH",
        "colab_type": "code",
        "colab": {
          "base_uri": "https://localhost:8080/",
          "height": 583
        },
        "outputId": "2af83d6a-3254-4e66-9e03-de7111776b40"
      },
      "source": [
        "# rename column\n",
        "financial.rename(columns={'The relathip with head': 'relationship_with_head', 'Level of Educuation':'level_of_education'}, inplace = True)\n",
        "financial.columns\n",
        "\n",
        "# making all column names consistent in the format\n",
        "financial.columns = financial.columns.str.strip().str.lower().str.replace(\" \", \"_\")\n",
        "financial"
      ],
      "execution_count": 166,
      "outputs": [
        {
          "output_type": "execute_result",
          "data": {
            "text/html": [
              "<div>\n",
              "<style scoped>\n",
              "    .dataframe tbody tr th:only-of-type {\n",
              "        vertical-align: middle;\n",
              "    }\n",
              "\n",
              "    .dataframe tbody tr th {\n",
              "        vertical-align: top;\n",
              "    }\n",
              "\n",
              "    .dataframe thead th {\n",
              "        text-align: right;\n",
              "    }\n",
              "</style>\n",
              "<table border=\"1\" class=\"dataframe\">\n",
              "  <thead>\n",
              "    <tr style=\"text-align: right;\">\n",
              "      <th></th>\n",
              "      <th>country</th>\n",
              "      <th>year</th>\n",
              "      <th>uniqueid</th>\n",
              "      <th>has_a_bank_account</th>\n",
              "      <th>type_of_location</th>\n",
              "      <th>cell_phone_access</th>\n",
              "      <th>household_size</th>\n",
              "      <th>respondent_age</th>\n",
              "      <th>gender_of_respondent</th>\n",
              "      <th>relationship_with_head</th>\n",
              "      <th>marital_status</th>\n",
              "      <th>level_of_education</th>\n",
              "      <th>type_of_job</th>\n",
              "    </tr>\n",
              "  </thead>\n",
              "  <tbody>\n",
              "    <tr>\n",
              "      <th>0</th>\n",
              "      <td>Kenya</td>\n",
              "      <td>2018</td>\n",
              "      <td>uniqueid_1</td>\n",
              "      <td>Yes</td>\n",
              "      <td>Rural</td>\n",
              "      <td>Yes</td>\n",
              "      <td>3.0</td>\n",
              "      <td>24.0</td>\n",
              "      <td>Female</td>\n",
              "      <td>Spouse</td>\n",
              "      <td>Married/Living together</td>\n",
              "      <td>Secondary education</td>\n",
              "      <td>Self employed</td>\n",
              "    </tr>\n",
              "    <tr>\n",
              "      <th>1</th>\n",
              "      <td>Kenya</td>\n",
              "      <td>2018</td>\n",
              "      <td>uniqueid_2</td>\n",
              "      <td>No</td>\n",
              "      <td>Rural</td>\n",
              "      <td>No</td>\n",
              "      <td>5.0</td>\n",
              "      <td>70.0</td>\n",
              "      <td>Female</td>\n",
              "      <td>Head of Household</td>\n",
              "      <td>Widowed</td>\n",
              "      <td>No formal education</td>\n",
              "      <td>Government Dependent</td>\n",
              "    </tr>\n",
              "    <tr>\n",
              "      <th>2</th>\n",
              "      <td>Kenya</td>\n",
              "      <td>2018</td>\n",
              "      <td>uniqueid_3</td>\n",
              "      <td>Yes</td>\n",
              "      <td>Urban</td>\n",
              "      <td>Yes</td>\n",
              "      <td>5.0</td>\n",
              "      <td>26.0</td>\n",
              "      <td>Male</td>\n",
              "      <td>Other relative</td>\n",
              "      <td>Single/Never Married</td>\n",
              "      <td>Vocational/Specialised training</td>\n",
              "      <td>Self employed</td>\n",
              "    </tr>\n",
              "    <tr>\n",
              "      <th>3</th>\n",
              "      <td>Kenya</td>\n",
              "      <td>2018</td>\n",
              "      <td>uniqueid_4</td>\n",
              "      <td>No</td>\n",
              "      <td>Rural</td>\n",
              "      <td>Yes</td>\n",
              "      <td>5.0</td>\n",
              "      <td>34.0</td>\n",
              "      <td>Female</td>\n",
              "      <td>Head of Household</td>\n",
              "      <td>Married/Living together</td>\n",
              "      <td>Primary education</td>\n",
              "      <td>Formally employed Private</td>\n",
              "    </tr>\n",
              "    <tr>\n",
              "      <th>4</th>\n",
              "      <td>Kenya</td>\n",
              "      <td>2018</td>\n",
              "      <td>uniqueid_5</td>\n",
              "      <td>No</td>\n",
              "      <td>Urban</td>\n",
              "      <td>No</td>\n",
              "      <td>8.0</td>\n",
              "      <td>26.0</td>\n",
              "      <td>Male</td>\n",
              "      <td>Child</td>\n",
              "      <td>Single/Never Married</td>\n",
              "      <td>Primary education</td>\n",
              "      <td>Informally employed</td>\n",
              "    </tr>\n",
              "    <tr>\n",
              "      <th>...</th>\n",
              "      <td>...</td>\n",
              "      <td>...</td>\n",
              "      <td>...</td>\n",
              "      <td>...</td>\n",
              "      <td>...</td>\n",
              "      <td>...</td>\n",
              "      <td>...</td>\n",
              "      <td>...</td>\n",
              "      <td>...</td>\n",
              "      <td>...</td>\n",
              "      <td>...</td>\n",
              "      <td>...</td>\n",
              "      <td>...</td>\n",
              "    </tr>\n",
              "    <tr>\n",
              "      <th>23519</th>\n",
              "      <td>Uganda</td>\n",
              "      <td>2018</td>\n",
              "      <td>uniqueid_2113</td>\n",
              "      <td>No</td>\n",
              "      <td>Rural</td>\n",
              "      <td>Yes</td>\n",
              "      <td>4.0</td>\n",
              "      <td>48.0</td>\n",
              "      <td>Female</td>\n",
              "      <td>Head of Household</td>\n",
              "      <td>Divorced/Seperated</td>\n",
              "      <td>No formal education</td>\n",
              "      <td>Other Income</td>\n",
              "    </tr>\n",
              "    <tr>\n",
              "      <th>23520</th>\n",
              "      <td>Uganda</td>\n",
              "      <td>2018</td>\n",
              "      <td>uniqueid_2114</td>\n",
              "      <td>No</td>\n",
              "      <td>Rural</td>\n",
              "      <td>Yes</td>\n",
              "      <td>2.0</td>\n",
              "      <td>27.0</td>\n",
              "      <td>Female</td>\n",
              "      <td>Head of Household</td>\n",
              "      <td>Single/Never Married</td>\n",
              "      <td>Secondary education</td>\n",
              "      <td>Other Income</td>\n",
              "    </tr>\n",
              "    <tr>\n",
              "      <th>23521</th>\n",
              "      <td>Uganda</td>\n",
              "      <td>2018</td>\n",
              "      <td>uniqueid_2115</td>\n",
              "      <td>No</td>\n",
              "      <td>Rural</td>\n",
              "      <td>Yes</td>\n",
              "      <td>5.0</td>\n",
              "      <td>27.0</td>\n",
              "      <td>Female</td>\n",
              "      <td>Parent</td>\n",
              "      <td>Widowed</td>\n",
              "      <td>Primary education</td>\n",
              "      <td>Other Income</td>\n",
              "    </tr>\n",
              "    <tr>\n",
              "      <th>23522</th>\n",
              "      <td>Uganda</td>\n",
              "      <td>2018</td>\n",
              "      <td>uniqueid_2116</td>\n",
              "      <td>No</td>\n",
              "      <td>Urban</td>\n",
              "      <td>Yes</td>\n",
              "      <td>7.0</td>\n",
              "      <td>30.0</td>\n",
              "      <td>Female</td>\n",
              "      <td>Parent</td>\n",
              "      <td>Divorced/Seperated</td>\n",
              "      <td>Secondary education</td>\n",
              "      <td>Self employed</td>\n",
              "    </tr>\n",
              "    <tr>\n",
              "      <th>23523</th>\n",
              "      <td>Uganda</td>\n",
              "      <td>2018</td>\n",
              "      <td>uniqueid_2117</td>\n",
              "      <td>No</td>\n",
              "      <td>Rural</td>\n",
              "      <td>Yes</td>\n",
              "      <td>10.0</td>\n",
              "      <td>20.0</td>\n",
              "      <td>Male</td>\n",
              "      <td>Child</td>\n",
              "      <td>Single/Never Married</td>\n",
              "      <td>Secondary education</td>\n",
              "      <td>No Income</td>\n",
              "    </tr>\n",
              "  </tbody>\n",
              "</table>\n",
              "<p>23524 rows × 13 columns</p>\n",
              "</div>"
            ],
            "text/plain": [
              "      country  year  ...               level_of_education                type_of_job\n",
              "0       Kenya  2018  ...              Secondary education              Self employed\n",
              "1       Kenya  2018  ...              No formal education       Government Dependent\n",
              "2       Kenya  2018  ...  Vocational/Specialised training              Self employed\n",
              "3       Kenya  2018  ...                Primary education  Formally employed Private\n",
              "4       Kenya  2018  ...                Primary education        Informally employed\n",
              "...       ...   ...  ...                              ...                        ...\n",
              "23519  Uganda  2018  ...              No formal education               Other Income\n",
              "23520  Uganda  2018  ...              Secondary education               Other Income\n",
              "23521  Uganda  2018  ...                Primary education               Other Income\n",
              "23522  Uganda  2018  ...              Secondary education              Self employed\n",
              "23523  Uganda  2018  ...              Secondary education                  No Income\n",
              "\n",
              "[23524 rows x 13 columns]"
            ]
          },
          "metadata": {
            "tags": []
          },
          "execution_count": 166
        }
      ]
    },
    {
      "cell_type": "code",
      "metadata": {
        "id": "vrpvz_-8ipSP",
        "colab_type": "code",
        "colab": {
          "base_uri": "https://localhost:8080/",
          "height": 583
        },
        "outputId": "81f234b7-23be-4764-9e55-2f7e0300ad62"
      },
      "source": [
        "# drop irrelevant fields\n",
        "financial.drop(['uniqueid', 'year'], axis=1, inplace=True)\n",
        "financial"
      ],
      "execution_count": 167,
      "outputs": [
        {
          "output_type": "execute_result",
          "data": {
            "text/html": [
              "<div>\n",
              "<style scoped>\n",
              "    .dataframe tbody tr th:only-of-type {\n",
              "        vertical-align: middle;\n",
              "    }\n",
              "\n",
              "    .dataframe tbody tr th {\n",
              "        vertical-align: top;\n",
              "    }\n",
              "\n",
              "    .dataframe thead th {\n",
              "        text-align: right;\n",
              "    }\n",
              "</style>\n",
              "<table border=\"1\" class=\"dataframe\">\n",
              "  <thead>\n",
              "    <tr style=\"text-align: right;\">\n",
              "      <th></th>\n",
              "      <th>country</th>\n",
              "      <th>has_a_bank_account</th>\n",
              "      <th>type_of_location</th>\n",
              "      <th>cell_phone_access</th>\n",
              "      <th>household_size</th>\n",
              "      <th>respondent_age</th>\n",
              "      <th>gender_of_respondent</th>\n",
              "      <th>relationship_with_head</th>\n",
              "      <th>marital_status</th>\n",
              "      <th>level_of_education</th>\n",
              "      <th>type_of_job</th>\n",
              "    </tr>\n",
              "  </thead>\n",
              "  <tbody>\n",
              "    <tr>\n",
              "      <th>0</th>\n",
              "      <td>Kenya</td>\n",
              "      <td>Yes</td>\n",
              "      <td>Rural</td>\n",
              "      <td>Yes</td>\n",
              "      <td>3.0</td>\n",
              "      <td>24.0</td>\n",
              "      <td>Female</td>\n",
              "      <td>Spouse</td>\n",
              "      <td>Married/Living together</td>\n",
              "      <td>Secondary education</td>\n",
              "      <td>Self employed</td>\n",
              "    </tr>\n",
              "    <tr>\n",
              "      <th>1</th>\n",
              "      <td>Kenya</td>\n",
              "      <td>No</td>\n",
              "      <td>Rural</td>\n",
              "      <td>No</td>\n",
              "      <td>5.0</td>\n",
              "      <td>70.0</td>\n",
              "      <td>Female</td>\n",
              "      <td>Head of Household</td>\n",
              "      <td>Widowed</td>\n",
              "      <td>No formal education</td>\n",
              "      <td>Government Dependent</td>\n",
              "    </tr>\n",
              "    <tr>\n",
              "      <th>2</th>\n",
              "      <td>Kenya</td>\n",
              "      <td>Yes</td>\n",
              "      <td>Urban</td>\n",
              "      <td>Yes</td>\n",
              "      <td>5.0</td>\n",
              "      <td>26.0</td>\n",
              "      <td>Male</td>\n",
              "      <td>Other relative</td>\n",
              "      <td>Single/Never Married</td>\n",
              "      <td>Vocational/Specialised training</td>\n",
              "      <td>Self employed</td>\n",
              "    </tr>\n",
              "    <tr>\n",
              "      <th>3</th>\n",
              "      <td>Kenya</td>\n",
              "      <td>No</td>\n",
              "      <td>Rural</td>\n",
              "      <td>Yes</td>\n",
              "      <td>5.0</td>\n",
              "      <td>34.0</td>\n",
              "      <td>Female</td>\n",
              "      <td>Head of Household</td>\n",
              "      <td>Married/Living together</td>\n",
              "      <td>Primary education</td>\n",
              "      <td>Formally employed Private</td>\n",
              "    </tr>\n",
              "    <tr>\n",
              "      <th>4</th>\n",
              "      <td>Kenya</td>\n",
              "      <td>No</td>\n",
              "      <td>Urban</td>\n",
              "      <td>No</td>\n",
              "      <td>8.0</td>\n",
              "      <td>26.0</td>\n",
              "      <td>Male</td>\n",
              "      <td>Child</td>\n",
              "      <td>Single/Never Married</td>\n",
              "      <td>Primary education</td>\n",
              "      <td>Informally employed</td>\n",
              "    </tr>\n",
              "    <tr>\n",
              "      <th>...</th>\n",
              "      <td>...</td>\n",
              "      <td>...</td>\n",
              "      <td>...</td>\n",
              "      <td>...</td>\n",
              "      <td>...</td>\n",
              "      <td>...</td>\n",
              "      <td>...</td>\n",
              "      <td>...</td>\n",
              "      <td>...</td>\n",
              "      <td>...</td>\n",
              "      <td>...</td>\n",
              "    </tr>\n",
              "    <tr>\n",
              "      <th>23519</th>\n",
              "      <td>Uganda</td>\n",
              "      <td>No</td>\n",
              "      <td>Rural</td>\n",
              "      <td>Yes</td>\n",
              "      <td>4.0</td>\n",
              "      <td>48.0</td>\n",
              "      <td>Female</td>\n",
              "      <td>Head of Household</td>\n",
              "      <td>Divorced/Seperated</td>\n",
              "      <td>No formal education</td>\n",
              "      <td>Other Income</td>\n",
              "    </tr>\n",
              "    <tr>\n",
              "      <th>23520</th>\n",
              "      <td>Uganda</td>\n",
              "      <td>No</td>\n",
              "      <td>Rural</td>\n",
              "      <td>Yes</td>\n",
              "      <td>2.0</td>\n",
              "      <td>27.0</td>\n",
              "      <td>Female</td>\n",
              "      <td>Head of Household</td>\n",
              "      <td>Single/Never Married</td>\n",
              "      <td>Secondary education</td>\n",
              "      <td>Other Income</td>\n",
              "    </tr>\n",
              "    <tr>\n",
              "      <th>23521</th>\n",
              "      <td>Uganda</td>\n",
              "      <td>No</td>\n",
              "      <td>Rural</td>\n",
              "      <td>Yes</td>\n",
              "      <td>5.0</td>\n",
              "      <td>27.0</td>\n",
              "      <td>Female</td>\n",
              "      <td>Parent</td>\n",
              "      <td>Widowed</td>\n",
              "      <td>Primary education</td>\n",
              "      <td>Other Income</td>\n",
              "    </tr>\n",
              "    <tr>\n",
              "      <th>23522</th>\n",
              "      <td>Uganda</td>\n",
              "      <td>No</td>\n",
              "      <td>Urban</td>\n",
              "      <td>Yes</td>\n",
              "      <td>7.0</td>\n",
              "      <td>30.0</td>\n",
              "      <td>Female</td>\n",
              "      <td>Parent</td>\n",
              "      <td>Divorced/Seperated</td>\n",
              "      <td>Secondary education</td>\n",
              "      <td>Self employed</td>\n",
              "    </tr>\n",
              "    <tr>\n",
              "      <th>23523</th>\n",
              "      <td>Uganda</td>\n",
              "      <td>No</td>\n",
              "      <td>Rural</td>\n",
              "      <td>Yes</td>\n",
              "      <td>10.0</td>\n",
              "      <td>20.0</td>\n",
              "      <td>Male</td>\n",
              "      <td>Child</td>\n",
              "      <td>Single/Never Married</td>\n",
              "      <td>Secondary education</td>\n",
              "      <td>No Income</td>\n",
              "    </tr>\n",
              "  </tbody>\n",
              "</table>\n",
              "<p>23524 rows × 11 columns</p>\n",
              "</div>"
            ],
            "text/plain": [
              "      country  ...                type_of_job\n",
              "0       Kenya  ...              Self employed\n",
              "1       Kenya  ...       Government Dependent\n",
              "2       Kenya  ...              Self employed\n",
              "3       Kenya  ...  Formally employed Private\n",
              "4       Kenya  ...        Informally employed\n",
              "...       ...  ...                        ...\n",
              "23519  Uganda  ...               Other Income\n",
              "23520  Uganda  ...               Other Income\n",
              "23521  Uganda  ...               Other Income\n",
              "23522  Uganda  ...              Self employed\n",
              "23523  Uganda  ...                  No Income\n",
              "\n",
              "[23524 rows x 11 columns]"
            ]
          },
          "metadata": {
            "tags": []
          },
          "execution_count": 167
        }
      ]
    },
    {
      "cell_type": "code",
      "metadata": {
        "id": "UYtCpF4Qjo47",
        "colab_type": "code",
        "colab": {
          "base_uri": "https://localhost:8080/",
          "height": 235
        },
        "outputId": "ede7b542-75a4-40b6-b864-d866fd440514"
      },
      "source": [
        "# checking for null values\n",
        "financial.isnull().sum()\n"
      ],
      "execution_count": 168,
      "outputs": [
        {
          "output_type": "execute_result",
          "data": {
            "text/plain": [
              "country                   14\n",
              "has_a_bank_account        36\n",
              "type_of_location          15\n",
              "cell_phone_access         11\n",
              "household_size            28\n",
              "respondent_age            34\n",
              "gender_of_respondent      34\n",
              "relationship_with_head     4\n",
              "marital_status            32\n",
              "level_of_education        29\n",
              "type_of_job               30\n",
              "dtype: int64"
            ]
          },
          "metadata": {
            "tags": []
          },
          "execution_count": 168
        }
      ]
    },
    {
      "cell_type": "code",
      "metadata": {
        "id": "YDya3Djylt76",
        "colab_type": "code",
        "colab": {
          "base_uri": "https://localhost:8080/",
          "height": 235
        },
        "outputId": "c3f13b7a-8f9a-494e-fa1c-441881919f40"
      },
      "source": [
        "# drop null values \n",
        "fin = financial.dropna()\n",
        "fin.isnull().sum()"
      ],
      "execution_count": 169,
      "outputs": [
        {
          "output_type": "execute_result",
          "data": {
            "text/plain": [
              "country                   0\n",
              "has_a_bank_account        0\n",
              "type_of_location          0\n",
              "cell_phone_access         0\n",
              "household_size            0\n",
              "respondent_age            0\n",
              "gender_of_respondent      0\n",
              "relationship_with_head    0\n",
              "marital_status            0\n",
              "level_of_education        0\n",
              "type_of_job               0\n",
              "dtype: int64"
            ]
          },
          "metadata": {
            "tags": []
          },
          "execution_count": 169
        }
      ]
    },
    {
      "cell_type": "code",
      "metadata": {
        "id": "bNSVYIAlmGCk",
        "colab_type": "code",
        "colab": {
          "base_uri": "https://localhost:8080/",
          "height": 35
        },
        "outputId": "2bea6583-eb4e-491a-bac8-d16af6fdb351"
      },
      "source": [
        "# checking for duplicates\n",
        "fin.duplicated().sum()"
      ],
      "execution_count": 170,
      "outputs": [
        {
          "output_type": "execute_result",
          "data": {
            "text/plain": [
              "4372"
            ]
          },
          "metadata": {
            "tags": []
          },
          "execution_count": 170
        }
      ]
    },
    {
      "cell_type": "code",
      "metadata": {
        "id": "Z4xXI2F8mQjH",
        "colab_type": "code",
        "colab": {
          "base_uri": "https://localhost:8080/",
          "height": 583
        },
        "outputId": "ec558eb4-0ea5-49d2-d92e-bc323a32fb0e"
      },
      "source": [
        "# drop duplicates \n",
        "df1 = fin.drop_duplicates()\n",
        "df1"
      ],
      "execution_count": 171,
      "outputs": [
        {
          "output_type": "execute_result",
          "data": {
            "text/html": [
              "<div>\n",
              "<style scoped>\n",
              "    .dataframe tbody tr th:only-of-type {\n",
              "        vertical-align: middle;\n",
              "    }\n",
              "\n",
              "    .dataframe tbody tr th {\n",
              "        vertical-align: top;\n",
              "    }\n",
              "\n",
              "    .dataframe thead th {\n",
              "        text-align: right;\n",
              "    }\n",
              "</style>\n",
              "<table border=\"1\" class=\"dataframe\">\n",
              "  <thead>\n",
              "    <tr style=\"text-align: right;\">\n",
              "      <th></th>\n",
              "      <th>country</th>\n",
              "      <th>has_a_bank_account</th>\n",
              "      <th>type_of_location</th>\n",
              "      <th>cell_phone_access</th>\n",
              "      <th>household_size</th>\n",
              "      <th>respondent_age</th>\n",
              "      <th>gender_of_respondent</th>\n",
              "      <th>relationship_with_head</th>\n",
              "      <th>marital_status</th>\n",
              "      <th>level_of_education</th>\n",
              "      <th>type_of_job</th>\n",
              "    </tr>\n",
              "  </thead>\n",
              "  <tbody>\n",
              "    <tr>\n",
              "      <th>0</th>\n",
              "      <td>Kenya</td>\n",
              "      <td>Yes</td>\n",
              "      <td>Rural</td>\n",
              "      <td>Yes</td>\n",
              "      <td>3.0</td>\n",
              "      <td>24.0</td>\n",
              "      <td>Female</td>\n",
              "      <td>Spouse</td>\n",
              "      <td>Married/Living together</td>\n",
              "      <td>Secondary education</td>\n",
              "      <td>Self employed</td>\n",
              "    </tr>\n",
              "    <tr>\n",
              "      <th>1</th>\n",
              "      <td>Kenya</td>\n",
              "      <td>No</td>\n",
              "      <td>Rural</td>\n",
              "      <td>No</td>\n",
              "      <td>5.0</td>\n",
              "      <td>70.0</td>\n",
              "      <td>Female</td>\n",
              "      <td>Head of Household</td>\n",
              "      <td>Widowed</td>\n",
              "      <td>No formal education</td>\n",
              "      <td>Government Dependent</td>\n",
              "    </tr>\n",
              "    <tr>\n",
              "      <th>2</th>\n",
              "      <td>Kenya</td>\n",
              "      <td>Yes</td>\n",
              "      <td>Urban</td>\n",
              "      <td>Yes</td>\n",
              "      <td>5.0</td>\n",
              "      <td>26.0</td>\n",
              "      <td>Male</td>\n",
              "      <td>Other relative</td>\n",
              "      <td>Single/Never Married</td>\n",
              "      <td>Vocational/Specialised training</td>\n",
              "      <td>Self employed</td>\n",
              "    </tr>\n",
              "    <tr>\n",
              "      <th>3</th>\n",
              "      <td>Kenya</td>\n",
              "      <td>No</td>\n",
              "      <td>Rural</td>\n",
              "      <td>Yes</td>\n",
              "      <td>5.0</td>\n",
              "      <td>34.0</td>\n",
              "      <td>Female</td>\n",
              "      <td>Head of Household</td>\n",
              "      <td>Married/Living together</td>\n",
              "      <td>Primary education</td>\n",
              "      <td>Formally employed Private</td>\n",
              "    </tr>\n",
              "    <tr>\n",
              "      <th>4</th>\n",
              "      <td>Kenya</td>\n",
              "      <td>No</td>\n",
              "      <td>Urban</td>\n",
              "      <td>No</td>\n",
              "      <td>8.0</td>\n",
              "      <td>26.0</td>\n",
              "      <td>Male</td>\n",
              "      <td>Child</td>\n",
              "      <td>Single/Never Married</td>\n",
              "      <td>Primary education</td>\n",
              "      <td>Informally employed</td>\n",
              "    </tr>\n",
              "    <tr>\n",
              "      <th>...</th>\n",
              "      <td>...</td>\n",
              "      <td>...</td>\n",
              "      <td>...</td>\n",
              "      <td>...</td>\n",
              "      <td>...</td>\n",
              "      <td>...</td>\n",
              "      <td>...</td>\n",
              "      <td>...</td>\n",
              "      <td>...</td>\n",
              "      <td>...</td>\n",
              "      <td>...</td>\n",
              "    </tr>\n",
              "    <tr>\n",
              "      <th>23519</th>\n",
              "      <td>Uganda</td>\n",
              "      <td>No</td>\n",
              "      <td>Rural</td>\n",
              "      <td>Yes</td>\n",
              "      <td>4.0</td>\n",
              "      <td>48.0</td>\n",
              "      <td>Female</td>\n",
              "      <td>Head of Household</td>\n",
              "      <td>Divorced/Seperated</td>\n",
              "      <td>No formal education</td>\n",
              "      <td>Other Income</td>\n",
              "    </tr>\n",
              "    <tr>\n",
              "      <th>23520</th>\n",
              "      <td>Uganda</td>\n",
              "      <td>No</td>\n",
              "      <td>Rural</td>\n",
              "      <td>Yes</td>\n",
              "      <td>2.0</td>\n",
              "      <td>27.0</td>\n",
              "      <td>Female</td>\n",
              "      <td>Head of Household</td>\n",
              "      <td>Single/Never Married</td>\n",
              "      <td>Secondary education</td>\n",
              "      <td>Other Income</td>\n",
              "    </tr>\n",
              "    <tr>\n",
              "      <th>23521</th>\n",
              "      <td>Uganda</td>\n",
              "      <td>No</td>\n",
              "      <td>Rural</td>\n",
              "      <td>Yes</td>\n",
              "      <td>5.0</td>\n",
              "      <td>27.0</td>\n",
              "      <td>Female</td>\n",
              "      <td>Parent</td>\n",
              "      <td>Widowed</td>\n",
              "      <td>Primary education</td>\n",
              "      <td>Other Income</td>\n",
              "    </tr>\n",
              "    <tr>\n",
              "      <th>23522</th>\n",
              "      <td>Uganda</td>\n",
              "      <td>No</td>\n",
              "      <td>Urban</td>\n",
              "      <td>Yes</td>\n",
              "      <td>7.0</td>\n",
              "      <td>30.0</td>\n",
              "      <td>Female</td>\n",
              "      <td>Parent</td>\n",
              "      <td>Divorced/Seperated</td>\n",
              "      <td>Secondary education</td>\n",
              "      <td>Self employed</td>\n",
              "    </tr>\n",
              "    <tr>\n",
              "      <th>23523</th>\n",
              "      <td>Uganda</td>\n",
              "      <td>No</td>\n",
              "      <td>Rural</td>\n",
              "      <td>Yes</td>\n",
              "      <td>10.0</td>\n",
              "      <td>20.0</td>\n",
              "      <td>Male</td>\n",
              "      <td>Child</td>\n",
              "      <td>Single/Never Married</td>\n",
              "      <td>Secondary education</td>\n",
              "      <td>No Income</td>\n",
              "    </tr>\n",
              "  </tbody>\n",
              "</table>\n",
              "<p>18971 rows × 11 columns</p>\n",
              "</div>"
            ],
            "text/plain": [
              "      country  ...                type_of_job\n",
              "0       Kenya  ...              Self employed\n",
              "1       Kenya  ...       Government Dependent\n",
              "2       Kenya  ...              Self employed\n",
              "3       Kenya  ...  Formally employed Private\n",
              "4       Kenya  ...        Informally employed\n",
              "...       ...  ...                        ...\n",
              "23519  Uganda  ...               Other Income\n",
              "23520  Uganda  ...               Other Income\n",
              "23521  Uganda  ...               Other Income\n",
              "23522  Uganda  ...              Self employed\n",
              "23523  Uganda  ...                  No Income\n",
              "\n",
              "[18971 rows x 11 columns]"
            ]
          },
          "metadata": {
            "tags": []
          },
          "execution_count": 171
        }
      ]
    },
    {
      "cell_type": "code",
      "metadata": {
        "id": "0nN6pk-Gmhk-",
        "colab_type": "code",
        "colab": {
          "base_uri": "https://localhost:8080/",
          "height": 429
        },
        "outputId": "84198819-5a6b-4ed5-fe18-a4339dc0421a"
      },
      "source": [
        "# checking for outliers \n",
        "df1.boxplot(figsize=(8, 6), fontsize=10)\n",
        "\n",
        "# print size of the data with outliers present\n",
        "print(df1.shape)\n",
        "\n",
        "print(\"********************************************\")\n",
        "\n",
        "# removing outliers\n",
        "Q1 = df1.quantile(0.25)\n",
        "Q3 = df1.quantile(0.75)\n",
        "IQR = Q3 - Q1\n",
        "df = df1[~((df1 < (Q1 - 1.5 * IQR)) | (df1 > (Q3 + 1.5 * IQR))).any(axis=1)]\n",
        "\n",
        "# print size of the data after removal of outliers\n",
        "print(df.shape)\n",
        "\n"
      ],
      "execution_count": 172,
      "outputs": [
        {
          "output_type": "stream",
          "text": [
            "(18971, 11)\n",
            "********************************************\n",
            "(18468, 11)\n"
          ],
          "name": "stdout"
        },
        {
          "output_type": "display_data",
          "data": {
            "image/png": "[encoded data removed]",
            "text/plain": [
              "<Figure size 576x432 with 1 Axes>"
            ]
          },
          "metadata": {
            "tags": [],
            "needs_background": "light"
          }
        }
      ]
    },
    {
      "cell_type": "code",
      "metadata": {
        "id": "DjX_6_DuoCWF",
        "colab_type": "code",
        "colab": {
          "base_uri": "https://localhost:8080/",
          "height": 285
        },
        "outputId": "a28a0d60-0ff4-47f8-c202-406f8d7dbe5b"
      },
      "source": [
        "# plot of the new data, without ouliers\n",
        "df.boxplot()"
      ],
      "execution_count": 173,
      "outputs": [
        {
          "output_type": "execute_result",
          "data": {
            "text/plain": [
              "<matplotlib.axes._subplots.AxesSubplot at 0x7f52b213fb00>"
            ]
          },
          "metadata": {
            "tags": []
          },
          "execution_count": 173
        },
        {
          "output_type": "display_data",
          "data": {
            "image/png": "[encoded data removed]",
            "text/plain": [
              "<Figure size 432x288 with 1 Axes>"
            ]
          },
          "metadata": {
            "tags": [],
            "needs_background": "light"
          }
        }
      ]
    },
    {
      "cell_type": "code",
      "metadata": {
        "id": "gqoSIUjpuqx5",
        "colab_type": "code",
        "colab": {
          "base_uri": "https://localhost:8080/",
          "height": 35
        },
        "outputId": "53e4ca3a-1699-498a-9d6e-40dbfcb0d853"
      },
      "source": [
        "# checking for anomalies\n",
        "# getting the quantiles\n",
        "q1_house = df['household_size'].quantile(.25)\n",
        "q3_house = df['household_size'].quantile(.75)\n",
        "\n",
        "# calculating inter-quartile range using values from above\n",
        "iqr_31_house = q3_house - q1_house\n",
        "\n",
        "# another way is to find quantiles using the percentiles from the numpy library\n",
        "q1_h, q3_h = np.percentile(df['household_size'], [25, 75]) \n",
        "# IQR\n",
        "iqr_31_h = q3_h - q1_h\n",
        "\n",
        "# compare if the two values are similar\n",
        "print(iqr_31_house, iqr_31_h)\n"
      ],
      "execution_count": 174,
      "outputs": [
        {
          "output_type": "stream",
          "text": [
            "3.0 3.0\n"
          ],
          "name": "stdout"
        }
      ]
    },
    {
      "cell_type": "code",
      "metadata": {
        "id": "_yjXgyA5Ia9n",
        "colab_type": "code",
        "colab": {
          "base_uri": "https://localhost:8080/",
          "height": 345
        },
        "outputId": "5a858981-5238-484f-d747-8ee0054623fd"
      },
      "source": [
        "# getting to know more about the dataset\n",
        "df.info()"
      ],
      "execution_count": 175,
      "outputs": [
        {
          "output_type": "stream",
          "text": [
            "<class 'pandas.core.frame.DataFrame'>\n",
            "Int64Index: 18468 entries, 0 to 23522\n",
            "Data columns (total 11 columns):\n",
            " #   Column                  Non-Null Count  Dtype  \n",
            "---  ------                  --------------  -----  \n",
            " 0   country                 18468 non-null  object \n",
            " 1   has_a_bank_account      18468 non-null  object \n",
            " 2   type_of_location        18468 non-null  object \n",
            " 3   cell_phone_access       18468 non-null  object \n",
            " 4   household_size          18468 non-null  float64\n",
            " 5   respondent_age          18468 non-null  float64\n",
            " 6   gender_of_respondent    18468 non-null  object \n",
            " 7   relationship_with_head  18468 non-null  object \n",
            " 8   marital_status          18468 non-null  object \n",
            " 9   level_of_education      18468 non-null  object \n",
            " 10  type_of_job             18468 non-null  object \n",
            "dtypes: float64(2), object(9)\n",
            "memory usage: 1.7+ MB\n"
          ],
          "name": "stdout"
        }
      ]
    },
    {
      "cell_type": "markdown",
      "metadata": {
        "id": "8ubaqYa5Gt-W",
        "colab_type": "text"
      },
      "source": [
        "# Exploratory Data Analysis"
      ]
    },
    {
      "cell_type": "markdown",
      "metadata": {
        "id": "XjOOCwjaGy2Y",
        "colab_type": "text"
      },
      "source": [
        "## Univariate Analysis"
      ]
    },
    {
      "cell_type": "code",
      "metadata": {
        "id": "iok2YP0jxLqe",
        "colab_type": "code",
        "colab": {
          "base_uri": "https://localhost:8080/",
          "height": 313
        },
        "outputId": "a53e372f-c93b-4a0f-a16b-54e983054cac"
      },
      "source": [
        "# how many individuals have or do not have bank accounts?\n",
        "# \n",
        "# plot a count plot for the variable\n",
        "ax = sns.countplot(df['has_a_bank_account'], order = df['has_a_bank_account'].value_counts().index)\n",
        "# formatting and labelling axes\n",
        "plt.title('Count of indidviduals with and without a bank account')\n",
        "plt.xlabel('Has a bank account?')\n",
        "plt.ylabel('Frequency/count of individuals')"
      ],
      "execution_count": 176,
      "outputs": [
        {
          "output_type": "execute_result",
          "data": {
            "text/plain": [
              "Text(0, 0.5, 'Frequency/count of individuals')"
            ]
          },
          "metadata": {
            "tags": []
          },
          "execution_count": 176
        },
        {
          "output_type": "display_data",
          "data": {
            "image/png": "[encoded data removed]",
            "text/plain": [
              "<Figure size 432x288 with 1 Axes>"
            ]
          },
          "metadata": {
            "tags": [],
            "needs_background": "light"
          }
        }
      ]
    },
    {
      "cell_type": "code",
      "metadata": {
        "id": "Y9tRPoetHKeV",
        "colab_type": "code",
        "colab": {
          "base_uri": "https://localhost:8080/",
          "height": 349
        },
        "outputId": "8c25de10-5a00-4190-9415-af0b1e38434f"
      },
      "source": [
        "# plot count plot for the type of location\n",
        "ax = sns.countplot(df['type_of_location'], order = df['type_of_location'].value_counts().index)\n",
        "# formatting the plot, labelling axes\n",
        "plt.title(\"Rural and Urban locations\")\n",
        "plt.xlabel('Rural or urban?')\n",
        "plt.ylabel('Number of individuals')\n",
        "# frequency table of the same for comparison\n",
        "df['type_of_location'].value_counts()"
      ],
      "execution_count": 177,
      "outputs": [
        {
          "output_type": "execute_result",
          "data": {
            "text/plain": [
              "Rural    11293\n",
              "Urban     7175\n",
              "Name: type_of_location, dtype: int64"
            ]
          },
          "metadata": {
            "tags": []
          },
          "execution_count": 177
        },
        {
          "output_type": "display_data",
          "data": {
            "image/png": "[encoded data removed]",
            "text/plain": [
              "<Figure size 432x288 with 1 Axes>"
            ]
          },
          "metadata": {
            "tags": [],
            "needs_background": "light"
          }
        }
      ]
    },
    {
      "cell_type": "code",
      "metadata": {
        "id": "_crNIG2QJwkh",
        "colab_type": "code",
        "colab": {
          "base_uri": "https://localhost:8080/",
          "height": 313
        },
        "outputId": "906c8ebb-1cd7-4730-c417-57c6e2285c8f"
      },
      "source": [
        "# plot count plot of the access to cell phones by individual respondent\n",
        "ax = sns.countplot(df['cell_phone_access'], order = df['cell_phone_access'].value_counts().index)\n",
        "# formatting and labelling the plot\n",
        "plt.title('Access to cell phone')\n",
        "plt.xlabel('Has access to cell phone?')\n",
        "plt.ylabel('Number of individuals')"
      ],
      "execution_count": 178,
      "outputs": [
        {
          "output_type": "execute_result",
          "data": {
            "text/plain": [
              "Text(0, 0.5, 'Number of individuals')"
            ]
          },
          "metadata": {
            "tags": []
          },
          "execution_count": 178
        },
        {
          "output_type": "display_data",
          "data": {
            "image/png": "[encoded data removed]",
            "text/plain": [
              "<Figure size 432x288 with 1 Axes>"
            ]
          },
          "metadata": {
            "tags": [],
            "needs_background": "light"
          }
        }
      ]
    },
    {
      "cell_type": "code",
      "metadata": {
        "id": "Wiffz5wuKzTO",
        "colab_type": "code",
        "colab": {
          "base_uri": "https://localhost:8080/",
          "height": 313
        },
        "outputId": "5ad7e678-96a8-46b6-c2f0-4d67d522f83f"
      },
      "source": [
        "# plot for the number of people living in one household\n",
        "ax = sns.countplot(df['household_size'], order = df['household_size'].value_counts().index)\n",
        "# formatting and labelling chart\n",
        "plt.title('Distribution of number of people living in one household')\n",
        "plt.xlabel('Number of individuals per household')\n",
        "plt.ylabel('Frequency distribution across the population')"
      ],
      "execution_count": 179,
      "outputs": [
        {
          "output_type": "execute_result",
          "data": {
            "text/plain": [
              "Text(0, 0.5, 'Frequency distribution across the population')"
            ]
          },
          "metadata": {
            "tags": []
          },
          "execution_count": 179
        },
        {
          "output_type": "display_data",
          "data": {
            "image/png": "[encoded data removed]",
            "text/plain": [
              "<Figure size 432x288 with 1 Axes>"
            ]
          },
          "metadata": {
            "tags": [],
            "needs_background": "light"
          }
        }
      ]
    },
    {
      "cell_type": "code",
      "metadata": {
        "id": "imEQRZq-La5x",
        "colab_type": "code",
        "colab": {
          "base_uri": "https://localhost:8080/",
          "height": 276
        },
        "outputId": "68630228-62b2-4fd8-cbfd-791eea58c4e9"
      },
      "source": [
        "# plot age distribution of the respondents\n",
        "# specify size of the figure since the values are so many-makes it easier to read the chart\n",
        "plt.figure(figsize=(20,5))\n",
        "\n",
        "ax = sns.countplot(df['respondent_age'], order = df['respondent_age'].value_counts().index)\n",
        "# formatting and labelling the chart\n",
        "plt.xticks(rotation = 90)\n",
        "plt.title(\"Age distribution across the population\")\n",
        "plt.xlabel(\"Age\")\n",
        "plt.ylabel(\"Frequency/number of occurrences\")\n"
      ],
      "execution_count": 180,
      "outputs": [
        {
          "output_type": "execute_result",
          "data": {
            "text/plain": [
              "Text(0, 0.5, 'Frequency/number of occurrences')"
            ]
          },
          "metadata": {
            "tags": []
          },
          "execution_count": 180
        },
        {
          "output_type": "display_data",
          "data": {
            "image/png": "[encoded data removed]",
            "text/plain": [
              "<Figure size 1440x360 with 1 Axes>"
            ]
          },
          "metadata": {
            "tags": [],
            "needs_background": "light"
          }
        }
      ]
    },
    {
      "cell_type": "code",
      "metadata": {
        "id": "RbUZhbTgMpU9",
        "colab_type": "code",
        "colab": {
          "base_uri": "https://localhost:8080/",
          "height": 313
        },
        "outputId": "f3382bce-22f7-427d-d6c5-ee58cd0fc56d"
      },
      "source": [
        "# count plot for the gender of the respondent\n",
        "ax = sns.countplot(df['gender_of_respondent'], order = df['gender_of_respondent'].value_counts().index)\n",
        "# formatting and labelling the plot\n",
        "plt.title(\"Gender distribution across the interviewed population\")\n",
        "plt.xlabel(\"Gender\")\n",
        "plt.ylabel(\"Frequency\")"
      ],
      "execution_count": 181,
      "outputs": [
        {
          "output_type": "execute_result",
          "data": {
            "text/plain": [
              "Text(0, 0.5, 'Frequency')"
            ]
          },
          "metadata": {
            "tags": []
          },
          "execution_count": 181
        },
        {
          "output_type": "display_data",
          "data": {
            "image/png": "[encoded data removed]",
            "text/plain": [
              "<Figure size 432x288 with 1 Axes>"
            ]
          },
          "metadata": {
            "tags": [],
            "needs_background": "light"
          }
        }
      ]
    },
    {
      "cell_type": "code",
      "metadata": {
        "id": "Yjp_N5PHNEvc",
        "colab_type": "code",
        "colab": {
          "base_uri": "https://localhost:8080/",
          "height": 400
        },
        "outputId": "4f03fa44-a25c-4989-d58c-ed194ecdf9a9"
      },
      "source": [
        "# count plot of the relationship of the respondent to the head of the household\n",
        "ax = sns.countplot(df['relationship_with_head'], order = df['relationship_with_head'].value_counts().index)\n",
        "# formatting and labelling the chart\n",
        "plt.title(\"Relationship of the respodent to the head of household\")\n",
        "plt.xlabel(\"Relation to household head\")\n",
        "plt.ylabel(\"Frequency of occur\")\n",
        "plt.xticks(rotation = 90)"
      ],
      "execution_count": 182,
      "outputs": [
        {
          "output_type": "execute_result",
          "data": {
            "text/plain": [
              "(array([0, 1, 2, 3, 4, 5]), <a list of 6 Text major ticklabel objects>)"
            ]
          },
          "metadata": {
            "tags": []
          },
          "execution_count": 182
        },
        {
          "output_type": "display_data",
          "data": {
            "image/png": "[encoded data removed]",
            "text/plain": [
              "<Figure size 432x288 with 1 Axes>"
            ]
          },
          "metadata": {
            "tags": [],
            "needs_background": "light"
          }
        }
      ]
    },
    {
      "cell_type": "code",
      "metadata": {
        "id": "AfiEQU-jN1Hg",
        "colab_type": "code",
        "colab": {
          "base_uri": "https://localhost:8080/",
          "height": 421
        },
        "outputId": "f0ceaf8b-5972-4880-c725-cb5a9c41cfa3"
      },
      "source": [
        "# plot of the marital status of the respondents, order them in descending order\n",
        "ax = sns.countplot(df['marital_status'], order = df['marital_status'].value_counts().index)\n",
        "# formatting the chart and labelling axes\n",
        "plt.title(\"Marital status of the interviewees\")\n",
        "plt.xlabel(\"Marital status\")\n",
        "plt.ylabel(\"Number of individuals in the population\")\n",
        "plt.xticks(rotation=90)"
      ],
      "execution_count": 183,
      "outputs": [
        {
          "output_type": "execute_result",
          "data": {
            "text/plain": [
              "(array([0, 1, 2, 3, 4]), <a list of 5 Text major ticklabel objects>)"
            ]
          },
          "metadata": {
            "tags": []
          },
          "execution_count": 183
        },
        {
          "output_type": "display_data",
          "data": {
            "image/png": "[encoded data removed]",
            "text/plain": [
              "<Figure size 432x288 with 1 Axes>"
            ]
          },
          "metadata": {
            "tags": [],
            "needs_background": "light"
          }
        }
      ]
    },
    {
      "cell_type": "code",
      "metadata": {
        "id": "9ZfkSGo_OgI6",
        "colab_type": "code",
        "colab": {
          "base_uri": "https://localhost:8080/",
          "height": 457
        },
        "outputId": "20e6529e-3044-4a30-c7c5-dd688c110b87"
      },
      "source": [
        "# plot of the level of education for the respondents who took part in the interview\n",
        "df['level_of_education'].value_counts().plot(kind='bar')\n",
        "# formatting and labelling the plot\n",
        "plt.title(\"Highest level of education reached by interviewees in the population\")\n",
        "plt.xlabel(\"Highest level reached\")\n",
        "plt.ylabel(\"Number of respondents\")\n"
      ],
      "execution_count": 184,
      "outputs": [
        {
          "output_type": "execute_result",
          "data": {
            "text/plain": [
              "Text(0, 0.5, 'Number of respondents')"
            ]
          },
          "metadata": {
            "tags": []
          },
          "execution_count": 184
        },
        {
          "output_type": "display_data",
          "data": {
            "image/png": "[encoded data removed]",
            "text/plain": [
              "<Figure size 432x288 with 1 Axes>"
            ]
          },
          "metadata": {
            "tags": [],
            "needs_background": "light"
          }
        }
      ]
    },
    {
      "cell_type": "code",
      "metadata": {
        "id": "8MJn2qFhV0VC",
        "colab_type": "code",
        "colab": {
          "base_uri": "https://localhost:8080/",
          "height": 145
        },
        "outputId": "a78deaf1-1940-45ac-d5a9-f1d83e48da51"
      },
      "source": [
        "# notice an anomaly in the above plot.6 is represented yet it does not represent any thing related to level of education\n",
        "# drop the anomaly 6 in the level of education\n",
        "df = df[~(df['level_of_education']=='6')]\n",
        "df['level_of_education'].value_counts()\n"
      ],
      "execution_count": 185,
      "outputs": [
        {
          "output_type": "execute_result",
          "data": {
            "text/plain": [
              "Primary education                  9196\n",
              "Secondary education                3712\n",
              "No formal education                3703\n",
              "Tertiary education                 1065\n",
              "Vocational/Specialised training     761\n",
              "Other/Dont know/RTA                   6\n",
              "Name: level_of_education, dtype: int64"
            ]
          },
          "metadata": {
            "tags": []
          },
          "execution_count": 185
        }
      ]
    },
    {
      "cell_type": "code",
      "metadata": {
        "id": "37-bVzyf9kRW",
        "colab_type": "code",
        "colab": {
          "base_uri": "https://localhost:8080/",
          "height": 457
        },
        "outputId": "215ac2f1-1664-495d-d8cd-189fa07f2d97"
      },
      "source": [
        "# plot a new chart for the level of education after dropping the anomalies\n",
        "ax = sns.countplot(df['level_of_education'], order = df['level_of_education'].value_counts().index)\n",
        "# formatting and labelling the chart\n",
        "plt.title(\"Highest level of education reached by interviewees in the population\")\n",
        "plt.xlabel(\"Highest level reached\")\n",
        "plt.ylabel(\"Number of respondents\")\n",
        "plt.xticks(rotation=90)"
      ],
      "execution_count": 186,
      "outputs": [
        {
          "output_type": "execute_result",
          "data": {
            "text/plain": [
              "(array([0, 1, 2, 3, 4, 5]), <a list of 6 Text major ticklabel objects>)"
            ]
          },
          "metadata": {
            "tags": []
          },
          "execution_count": 186
        },
        {
          "output_type": "display_data",
          "data": {
            "image/png": "[encoded data removed]",
            "text/plain": [
              "<Figure size 432x288 with 1 Axes>"
            ]
          },
          "metadata": {
            "tags": [],
            "needs_background": "light"
          }
        }
      ]
    },
    {
      "cell_type": "code",
      "metadata": {
        "id": "gzzaWj6GPgLV",
        "colab_type": "code",
        "colab": {
          "base_uri": "https://localhost:8080/",
          "height": 483
        },
        "outputId": "e9913914-8619-4b98-ee6e-034ad5abc9cf"
      },
      "source": [
        "# count plot for the type of job\n",
        "ax = sns.countplot(df['type_of_job'], order = df['type_of_job'].value_counts().index)\n",
        "# formatting and labelling the chart \n",
        "plt.title(\"Type of job respondent holds\")\n",
        "plt.xlabel(\"Type of job\")\n",
        "plt.ylabel(\"Number of respondents\")\n",
        "plt.xticks(rotation=90)"
      ],
      "execution_count": 187,
      "outputs": [
        {
          "output_type": "execute_result",
          "data": {
            "text/plain": [
              "(array([0, 1, 2, 3, 4, 5, 6, 7, 8, 9]),\n",
              " <a list of 10 Text major ticklabel objects>)"
            ]
          },
          "metadata": {
            "tags": []
          },
          "execution_count": 187
        },
        {
          "output_type": "display_data",
          "data": {
            "image/png": "[encoded data removed]",
            "text/plain": [
              "<Figure size 432x288 with 1 Axes>"
            ]
          },
          "metadata": {
            "tags": [],
            "needs_background": "light"
          }
        }
      ]
    },
    {
      "cell_type": "markdown",
      "metadata": {
        "id": "zpNo3KuqnJxW",
        "colab_type": "text"
      },
      "source": [
        "**Measures of central tendency**"
      ]
    },
    {
      "cell_type": "code",
      "metadata": {
        "id": "rpdmbcq4m9H9",
        "colab_type": "code",
        "colab": {
          "base_uri": "https://localhost:8080/",
          "height": 90
        },
        "outputId": "236ca17f-8e47-4426-9853-4d7c716e597a"
      },
      "source": [
        "print(df['respondent_age'].mean())\n",
        "\n",
        "print(df['respondent_age'].median())\n",
        "\n",
        "print(df['respondent_age'].mode())"
      ],
      "execution_count": 212,
      "outputs": [
        {
          "output_type": "stream",
          "text": [
            "39.2298433009814\n",
            "36.0\n",
            "0    30.0\n",
            "dtype: float64\n"
          ],
          "name": "stdout"
        }
      ]
    },
    {
      "cell_type": "code",
      "metadata": {
        "id": "1pBQAmnKnU4I",
        "colab_type": "code",
        "colab": {
          "base_uri": "https://localhost:8080/",
          "height": 90
        },
        "outputId": "6d1043d1-6c15-4ea7-a947-e2dd620cd43c"
      },
      "source": [
        "print(df['household_size'].mean())\n",
        "print(df['household_size'].median())\n",
        "print(df['household_size'].mode())"
      ],
      "execution_count": 214,
      "outputs": [
        {
          "output_type": "stream",
          "text": [
            "3.614162554898878\n",
            "3.0\n",
            "0    2.0\n",
            "dtype: float64\n"
          ],
          "name": "stdout"
        }
      ]
    },
    {
      "cell_type": "markdown",
      "metadata": {
        "id": "cNH9M5u3G4st",
        "colab_type": "text"
      },
      "source": [
        "## Bivariate Analysis"
      ]
    },
    {
      "cell_type": "code",
      "metadata": {
        "id": "pQgXj6qDiKVh",
        "colab_type": "code",
        "colab": {
          "base_uri": "https://localhost:8080/",
          "height": 322
        },
        "outputId": "293d7a92-117a-4fa4-e351-4656ebba54b8"
      },
      "source": [
        "# rename/save the dataframe using a new name \n",
        "finance = df\n",
        "finance.head()"
      ],
      "execution_count": 188,
      "outputs": [
        {
          "output_type": "execute_result",
          "data": {
            "text/html": [
              "<div>\n",
              "<style scoped>\n",
              "    .dataframe tbody tr th:only-of-type {\n",
              "        vertical-align: middle;\n",
              "    }\n",
              "\n",
              "    .dataframe tbody tr th {\n",
              "        vertical-align: top;\n",
              "    }\n",
              "\n",
              "    .dataframe thead th {\n",
              "        text-align: right;\n",
              "    }\n",
              "</style>\n",
              "<table border=\"1\" class=\"dataframe\">\n",
              "  <thead>\n",
              "    <tr style=\"text-align: right;\">\n",
              "      <th></th>\n",
              "      <th>country</th>\n",
              "      <th>has_a_bank_account</th>\n",
              "      <th>type_of_location</th>\n",
              "      <th>cell_phone_access</th>\n",
              "      <th>household_size</th>\n",
              "      <th>respondent_age</th>\n",
              "      <th>gender_of_respondent</th>\n",
              "      <th>relationship_with_head</th>\n",
              "      <th>marital_status</th>\n",
              "      <th>level_of_education</th>\n",
              "      <th>type_of_job</th>\n",
              "    </tr>\n",
              "  </thead>\n",
              "  <tbody>\n",
              "    <tr>\n",
              "      <th>0</th>\n",
              "      <td>Kenya</td>\n",
              "      <td>Yes</td>\n",
              "      <td>Rural</td>\n",
              "      <td>Yes</td>\n",
              "      <td>3.0</td>\n",
              "      <td>24.0</td>\n",
              "      <td>Female</td>\n",
              "      <td>Spouse</td>\n",
              "      <td>Married/Living together</td>\n",
              "      <td>Secondary education</td>\n",
              "      <td>Self employed</td>\n",
              "    </tr>\n",
              "    <tr>\n",
              "      <th>1</th>\n",
              "      <td>Kenya</td>\n",
              "      <td>No</td>\n",
              "      <td>Rural</td>\n",
              "      <td>No</td>\n",
              "      <td>5.0</td>\n",
              "      <td>70.0</td>\n",
              "      <td>Female</td>\n",
              "      <td>Head of Household</td>\n",
              "      <td>Widowed</td>\n",
              "      <td>No formal education</td>\n",
              "      <td>Government Dependent</td>\n",
              "    </tr>\n",
              "    <tr>\n",
              "      <th>2</th>\n",
              "      <td>Kenya</td>\n",
              "      <td>Yes</td>\n",
              "      <td>Urban</td>\n",
              "      <td>Yes</td>\n",
              "      <td>5.0</td>\n",
              "      <td>26.0</td>\n",
              "      <td>Male</td>\n",
              "      <td>Other relative</td>\n",
              "      <td>Single/Never Married</td>\n",
              "      <td>Vocational/Specialised training</td>\n",
              "      <td>Self employed</td>\n",
              "    </tr>\n",
              "    <tr>\n",
              "      <th>3</th>\n",
              "      <td>Kenya</td>\n",
              "      <td>No</td>\n",
              "      <td>Rural</td>\n",
              "      <td>Yes</td>\n",
              "      <td>5.0</td>\n",
              "      <td>34.0</td>\n",
              "      <td>Female</td>\n",
              "      <td>Head of Household</td>\n",
              "      <td>Married/Living together</td>\n",
              "      <td>Primary education</td>\n",
              "      <td>Formally employed Private</td>\n",
              "    </tr>\n",
              "    <tr>\n",
              "      <th>4</th>\n",
              "      <td>Kenya</td>\n",
              "      <td>No</td>\n",
              "      <td>Urban</td>\n",
              "      <td>No</td>\n",
              "      <td>8.0</td>\n",
              "      <td>26.0</td>\n",
              "      <td>Male</td>\n",
              "      <td>Child</td>\n",
              "      <td>Single/Never Married</td>\n",
              "      <td>Primary education</td>\n",
              "      <td>Informally employed</td>\n",
              "    </tr>\n",
              "  </tbody>\n",
              "</table>\n",
              "</div>"
            ],
            "text/plain": [
              "  country  ...                type_of_job\n",
              "0   Kenya  ...              Self employed\n",
              "1   Kenya  ...       Government Dependent\n",
              "2   Kenya  ...              Self employed\n",
              "3   Kenya  ...  Formally employed Private\n",
              "4   Kenya  ...        Informally employed\n",
              "\n",
              "[5 rows x 11 columns]"
            ]
          },
          "metadata": {
            "tags": []
          },
          "execution_count": 188
        }
      ]
    },
    {
      "cell_type": "code",
      "metadata": {
        "id": "iNBxz2L0X_fb",
        "colab_type": "code",
        "colab": {
          "base_uri": "https://localhost:8080/",
          "height": 345
        },
        "outputId": "a42f6f3c-05bd-49b3-ccaa-25d076e99a4e"
      },
      "source": [
        "# checking the datatypes\n",
        "finance.info()"
      ],
      "execution_count": 189,
      "outputs": [
        {
          "output_type": "stream",
          "text": [
            "<class 'pandas.core.frame.DataFrame'>\n",
            "Int64Index: 18443 entries, 0 to 23522\n",
            "Data columns (total 11 columns):\n",
            " #   Column                  Non-Null Count  Dtype  \n",
            "---  ------                  --------------  -----  \n",
            " 0   country                 18443 non-null  object \n",
            " 1   has_a_bank_account      18443 non-null  object \n",
            " 2   type_of_location        18443 non-null  object \n",
            " 3   cell_phone_access       18443 non-null  object \n",
            " 4   household_size          18443 non-null  float64\n",
            " 5   respondent_age          18443 non-null  float64\n",
            " 6   gender_of_respondent    18443 non-null  object \n",
            " 7   relationship_with_head  18443 non-null  object \n",
            " 8   marital_status          18443 non-null  object \n",
            " 9   level_of_education      18443 non-null  object \n",
            " 10  type_of_job             18443 non-null  object \n",
            "dtypes: float64(2), object(9)\n",
            "memory usage: 2.3+ MB\n"
          ],
          "name": "stdout"
        }
      ]
    },
    {
      "cell_type": "markdown",
      "metadata": {
        "id": "K3LA70pVl12p",
        "colab_type": "text"
      },
      "source": [
        "**Analysis by Country**"
      ]
    },
    {
      "cell_type": "code",
      "metadata": {
        "id": "ZvWr7KH0uRF2",
        "colab_type": "code",
        "colab": {
          "base_uri": "https://localhost:8080/",
          "height": 674
        },
        "outputId": "1fc200ec-19af-4302-b05e-6c82c1b222a6"
      },
      "source": [
        "# create a crosstab/frequency table for the countries and bank account possession\n",
        "countries_bankacc= pd.crosstab(index=finance['country'], columns=finance['has_a_bank_account'])\n",
        "\n",
        "print(countries_bankacc)\n",
        "# plot chart for the frequencies represented in the crosstab dataframe \n",
        "countries_bankacc.plot(kind=\"bar\", figsize=(8,8),stacked=True)\n",
        "# labelling axes and formatting chart\n",
        "plt.title(\"Bank account possession by country\")\n",
        "plt.ylabel(\"Distribution across the population\")"
      ],
      "execution_count": 190,
      "outputs": [
        {
          "output_type": "stream",
          "text": [
            "has_a_bank_account    No   Yes\n",
            "country                       \n",
            "Kenya               4029  1430\n",
            "Rwanda              5567   931\n",
            "Tanzania            4143   548\n",
            "Uganda              1631   164\n"
          ],
          "name": "stdout"
        },
        {
          "output_type": "execute_result",
          "data": {
            "text/plain": [
              "Text(0, 0.5, 'Distribution across the population')"
            ]
          },
          "metadata": {
            "tags": []
          },
          "execution_count": 190
        },
        {
          "output_type": "display_data",
          "data": {
            "image/png": "[encoded data removed]",
            "text/plain": [
              "<Figure size 576x576 with 1 Axes>"
            ]
          },
          "metadata": {
            "tags": [],
            "needs_background": "light"
          }
        }
      ]
    },
    {
      "cell_type": "code",
      "metadata": {
        "id": "gPVBceM-b9eH",
        "colab_type": "code",
        "colab": {
          "base_uri": "https://localhost:8080/",
          "height": 674
        },
        "outputId": "6551d0a6-65fe-4480-bb01-e082047d7a2d"
      },
      "source": [
        "# create a crosstab/frequency table for the countries and accessibility to cell phone\n",
        "countries_cellphone = pd.crosstab(index=finance['country'], columns=finance['cell_phone_access'])\n",
        "\n",
        "print(countries_cellphone)\n",
        "# plot chart for the frequencies represented in the crosstab dataframe\n",
        "countries_cellphone.plot(kind=\"bar\", figsize=(8,8),stacked=True)\n",
        "# labelling axes and formatting chart\n",
        "plt.title(\"Accessibility to cellphone by country\")\n",
        "plt.ylabel(\"Distribution across the population\")"
      ],
      "execution_count": 191,
      "outputs": [
        {
          "output_type": "stream",
          "text": [
            "cell_phone_access    No   Yes\n",
            "country                      \n",
            "Kenya              1091  4368\n",
            "Rwanda             1264  5234\n",
            "Tanzania           1847  2844\n",
            "Uganda              540  1255\n"
          ],
          "name": "stdout"
        },
        {
          "output_type": "execute_result",
          "data": {
            "text/plain": [
              "Text(0, 0.5, 'Distribution across the population')"
            ]
          },
          "metadata": {
            "tags": []
          },
          "execution_count": 191
        },
        {
          "output_type": "display_data",
          "data": {
            "image/png": "[encoded data removed]",
            "text/plain": [
              "<Figure size 576x576 with 1 Axes>"
            ]
          },
          "metadata": {
            "tags": [],
            "needs_background": "light"
          }
        }
      ]
    },
    {
      "cell_type": "code",
      "metadata": {
        "id": "XojftZhtwVr5",
        "colab_type": "code",
        "colab": {
          "base_uri": "https://localhost:8080/",
          "height": 674
        },
        "outputId": "f435a922-115e-432a-d432-db51fef304a6"
      },
      "source": [
        "# create a crosstab/frequency table \n",
        "countries_location = pd.crosstab(index=finance['country'], columns=finance['type_of_location'])\n",
        "print(countries_location)\n",
        "\n",
        "# plot chart for the frequencies represented in the crosstab dataframe \n",
        "countries_location.plot(kind=\"bar\", figsize=(8,8),stacked=True)\n",
        "# labelling axes and formatting chart\n",
        "plt.title(\"Locations of respondents by country\")\n",
        "plt.ylabel(\"Distribution across the population\")"
      ],
      "execution_count": 192,
      "outputs": [
        {
          "output_type": "stream",
          "text": [
            "type_of_location  Rural  Urban\n",
            "country                       \n",
            "Kenya              3131   2328\n",
            "Rwanda             5336   1162\n",
            "Tanzania           1559   3132\n",
            "Uganda             1253    542\n"
          ],
          "name": "stdout"
        },
        {
          "output_type": "execute_result",
          "data": {
            "text/plain": [
              "Text(0, 0.5, 'Distribution across the population')"
            ]
          },
          "metadata": {
            "tags": []
          },
          "execution_count": 192
        },
        {
          "output_type": "display_data",
          "data": {
            "image/png": "[encoded data removed]",
            "text/plain": [
              "<Figure size 576x576 with 1 Axes>"
            ]
          },
          "metadata": {
            "tags": [],
            "needs_background": "light"
          }
        }
      ]
    },
    {
      "cell_type": "code",
      "metadata": {
        "id": "rbcov90j2kzN",
        "colab_type": "code",
        "colab": {
          "base_uri": "https://localhost:8080/",
          "height": 674
        },
        "outputId": "24db6722-4dc1-4f34-c3a5-139f7dbff0a7"
      },
      "source": [
        "# create a frequency table dataframe\n",
        "countries_housesize = pd.crosstab(index=finance['country'], columns=finance['household_size'])\n",
        "print(countries_housesize)\n",
        "# plot chart from the frequency table dataframe\n",
        "countries_housesize.plot(kind=\"bar\", figsize=(8,8),stacked=True)\n",
        "# labelling axes and formatting chart\n",
        "plt.title(\"Housesizes for the respondents by country\")\n",
        "plt.ylabel(\"Distribution across the population\")"
      ],
      "execution_count": 193,
      "outputs": [
        {
          "output_type": "stream",
          "text": [
            "household_size  0.0   1.0   2.0   3.0   4.0   5.0  6.0  7.0  8.0  9.0\n",
            "country                                                              \n",
            "Kenya             0   916   807   872   880   732  554  363  210  125\n",
            "Rwanda            0   423   754  1158  1159  1106  845  612  301  140\n",
            "Tanzania         30  1870  1812   560   243   101   43   21    9    2\n",
            "Uganda            0   168   238   311   259   240  212  171  125   71\n"
          ],
          "name": "stdout"
        },
        {
          "output_type": "execute_result",
          "data": {
            "text/plain": [
              "Text(0, 0.5, 'Distribution across the population')"
            ]
          },
          "metadata": {
            "tags": []
          },
          "execution_count": 193
        },
        {
          "output_type": "display_data",
          "data": {
            "image/png": "[encoded data removed]",
            "text/plain": [
              "<Figure size 576x576 with 1 Axes>"
            ]
          },
          "metadata": {
            "tags": [],
            "needs_background": "light"
          }
        }
      ]
    },
    {
      "cell_type": "code",
      "metadata": {
        "id": "36te2maE223K",
        "colab_type": "code",
        "colab": {
          "base_uri": "https://localhost:8080/",
          "height": 710
        },
        "outputId": "31dd1882-b0bb-4bf2-a7da-2210213e0bc8"
      },
      "source": [
        "# create a crosstab dataframe\n",
        "countries_gender = pd.crosstab(index=finance['country'], columns=finance['marital_status'])\n",
        "print(countries_gender)\n",
        "# plot chart from the dataframe\n",
        "countries_gender.plot(kind=\"bar\", figsize=(8,8))\n",
        "# formatting and labelling chart\n",
        "plt.title(\"Marital status of respondents by country\")\n",
        "plt.ylabel(\"Distribution across the population\")"
      ],
      "execution_count": 194,
      "outputs": [
        {
          "output_type": "stream",
          "text": [
            "marital_status  Divorced/Seperated  Dont know  ...  Single/Never Married  Widowed\n",
            "country                                        ...                               \n",
            "Kenya                          339          8  ...                  1320      619\n",
            "Rwanda                         444          0  ...                  1569      971\n",
            "Tanzania                       974          0  ...                  2638      513\n",
            "Uganda                         155          0  ...                   335      168\n",
            "\n",
            "[4 rows x 5 columns]\n"
          ],
          "name": "stdout"
        },
        {
          "output_type": "execute_result",
          "data": {
            "text/plain": [
              "Text(0, 0.5, 'Distribution across the population')"
            ]
          },
          "metadata": {
            "tags": []
          },
          "execution_count": 194
        },
        {
          "output_type": "display_data",
          "data": {
            "image/png": "[encoded data removed]",
            "text/plain": [
              "<Figure size 576x576 with 1 Axes>"
            ]
          },
          "metadata": {
            "tags": [],
            "needs_background": "light"
          }
        }
      ]
    },
    {
      "cell_type": "code",
      "metadata": {
        "id": "EbnY5Jj07x2-",
        "colab_type": "code",
        "colab": {
          "base_uri": "https://localhost:8080/",
          "height": 710
        },
        "outputId": "54de7271-e176-4550-8fd7-cf0f799113ed"
      },
      "source": [
        "# create crosstab dataframe\n",
        "countries_job = pd.crosstab(index=finance['country'], columns=finance['type_of_job'])\n",
        "print(countries_job)\n",
        "# plot chart\n",
        "countries_job.plot(kind=\"bar\", figsize=(8,8))\n",
        "# formatting\n",
        "plt.title(\"Type of job respondent holds by country\")\n",
        "plt.ylabel(\"Distribution across the population\")"
      ],
      "execution_count": 195,
      "outputs": [
        {
          "output_type": "stream",
          "text": [
            "type_of_job  Dont Know/Refuse to answer  ...  Self employed\n",
            "country                                  ...               \n",
            "Kenya                                 3  ...            904\n",
            "Rwanda                               54  ...            553\n",
            "Tanzania                              0  ...           2318\n",
            "Uganda                               62  ...            902\n",
            "\n",
            "[4 rows x 10 columns]\n"
          ],
          "name": "stdout"
        },
        {
          "output_type": "execute_result",
          "data": {
            "text/plain": [
              "Text(0, 0.5, 'Distribution across the population')"
            ]
          },
          "metadata": {
            "tags": []
          },
          "execution_count": 195
        },
        {
          "output_type": "display_data",
          "data": {
            "image/png": "[encoded data removed]",
            "text/plain": [
              "<Figure size 576x576 with 1 Axes>"
            ]
          },
          "metadata": {
            "tags": [],
            "needs_background": "light"
          }
        }
      ]
    },
    {
      "cell_type": "markdown",
      "metadata": {
        "id": "CmrAaa1p4EnC",
        "colab_type": "text"
      },
      "source": [
        "**Demographic factor analysis**"
      ]
    },
    {
      "cell_type": "code",
      "metadata": {
        "id": "pJ1mRfo834Oh",
        "colab_type": "code",
        "colab": {
          "base_uri": "https://localhost:8080/",
          "height": 822
        },
        "outputId": "f49e8d86-dfe3-4f9c-c0e7-9e425a1ceb03"
      },
      "source": [
        "# create crosstab\n",
        "edu_bank = pd.crosstab(index=finance['level_of_education'], columns=finance['has_a_bank_account'])\n",
        "print(edu_bank)\n",
        "# plot chart\n",
        "edu_bank.plot(kind=\"bar\", figsize=(8,8))\n",
        "# format & label chart\n",
        "plt.title(\"Relation of respondents education level to bank account possession\")\n",
        "plt.ylabel(\"Distribution across the population\")"
      ],
      "execution_count": 196,
      "outputs": [
        {
          "output_type": "stream",
          "text": [
            "has_a_bank_account                 No   Yes\n",
            "level_of_education                         \n",
            "No formal education              3541   162\n",
            "Other/Dont know/RTA                 0     6\n",
            "Primary education                8185  1011\n",
            "Secondary education              2803   909\n",
            "Tertiary education                512   553\n",
            "Vocational/Specialised training   329   432\n"
          ],
          "name": "stdout"
        },
        {
          "output_type": "execute_result",
          "data": {
            "text/plain": [
              "Text(0, 0.5, 'Distribution across the population')"
            ]
          },
          "metadata": {
            "tags": []
          },
          "execution_count": 196
        },
        {
          "output_type": "display_data",
          "data": {
            "image/png": "[encoded data removed]",
            "text/plain": [
              "<Figure size 576x576 with 1 Axes>"
            ]
          },
          "metadata": {
            "tags": [],
            "needs_background": "light"
          }
        }
      ]
    },
    {
      "cell_type": "code",
      "metadata": {
        "id": "FwWOBoE556im",
        "colab_type": "code",
        "colab": {
          "base_uri": "https://localhost:8080/",
          "height": 550
        },
        "outputId": "5f918a77-442e-4268-adb1-04440d024c3b"
      },
      "source": [
        "# create crosstab dataframe\n",
        "age_bank = pd.crosstab(index=finance['respondent_age'], columns=finance['has_a_bank_account'])\n",
        "print(age_bank)\n",
        "# plot chart\n",
        "age_bank.plot(kind=\"bar\", figsize=(20,5))\n",
        "# format and label chart\n",
        "plt.title(\"Relation of respondent age and possession of bank account\")\n",
        "plt.ylabel(\"Distribution across the population\")"
      ],
      "execution_count": 197,
      "outputs": [
        {
          "output_type": "stream",
          "text": [
            "has_a_bank_account   No  Yes\n",
            "respondent_age              \n",
            "16.0                357    5\n",
            "17.0                364    8\n",
            "18.0                453   20\n",
            "19.0                362   27\n",
            "20.0                470   35\n",
            "...                 ...  ...\n",
            "82.0                 31    5\n",
            "83.0                 28    2\n",
            "84.0                 18    2\n",
            "85.0                 49    2\n",
            "86.0                 20    3\n",
            "\n",
            "[71 rows x 2 columns]\n"
          ],
          "name": "stdout"
        },
        {
          "output_type": "execute_result",
          "data": {
            "text/plain": [
              "Text(0, 0.5, 'Distribution across the population')"
            ]
          },
          "metadata": {
            "tags": []
          },
          "execution_count": 197
        },
        {
          "output_type": "display_data",
          "data": {
            "image/png": "[encoded data removed]",
            "text/plain": [
              "<Figure size 1440x360 with 1 Axes>"
            ]
          },
          "metadata": {
            "tags": [],
            "needs_background": "light"
          }
        }
      ]
    },
    {
      "cell_type": "code",
      "metadata": {
        "id": "7ASRUDLa8o3p",
        "colab_type": "code",
        "colab": {
          "base_uri": "https://localhost:8080/",
          "height": 631
        },
        "outputId": "a86b9844-8ea6-4477-acf9-05c868041604"
      },
      "source": [
        "# create crosstab dataframe\n",
        "gender_bank = pd.crosstab(index=finance['gender_of_respondent'], columns=finance['has_a_bank_account'])\n",
        "print(gender_bank)\n",
        "# plot of the relation of gender to individuals possession to bank account\n",
        "gender_bank.plot(kind=\"bar\", figsize=(8,8))\n",
        "# formatting&labelling chart\n",
        "plt.title(\"Relation of respondent age and possession of bank account\")\n",
        "plt.ylabel(\"Distribution across the population\")"
      ],
      "execution_count": 198,
      "outputs": [
        {
          "output_type": "stream",
          "text": [
            "has_a_bank_account      No   Yes\n",
            "gender_of_respondent            \n",
            "Female                9572  1402\n",
            "Male                  5798  1671\n"
          ],
          "name": "stdout"
        },
        {
          "output_type": "execute_result",
          "data": {
            "text/plain": [
              "Text(0, 0.5, 'Distribution across the population')"
            ]
          },
          "metadata": {
            "tags": []
          },
          "execution_count": 198
        },
        {
          "output_type": "display_data",
          "data": {
            "image/png": "[encoded data removed]",
            "text/plain": [
              "<Figure size 576x576 with 1 Axes>"
            ]
          },
          "metadata": {
            "tags": [],
            "needs_background": "light"
          }
        }
      ]
    },
    {
      "cell_type": "code",
      "metadata": {
        "id": "SnvJU0YY91UN",
        "colab_type": "code",
        "colab": {
          "base_uri": "https://localhost:8080/",
          "height": 766
        },
        "outputId": "11e08e84-ff34-4353-e0da-84648162d37b"
      },
      "source": [
        "# create crosstab dataframe\n",
        "marital_bank = pd.crosstab(index=finance['marital_status'], columns=finance['has_a_bank_account'])\n",
        "print(marital_bank)\n",
        "# plot chart\n",
        "marital_bank.plot(kind=\"bar\", figsize=(8,8))\n",
        "# formatting&labelling\n",
        "plt.title(\"Effect of marital status and possession of bank account\")\n",
        "plt.ylabel(\"Distribution across the population\")"
      ],
      "execution_count": 199,
      "outputs": [
        {
          "output_type": "stream",
          "text": [
            "has_a_bank_account         No   Yes\n",
            "marital_status                     \n",
            "Divorced/Seperated       1689   223\n",
            "Dont know                   6     2\n",
            "Married/Living together  6653  1737\n",
            "Single/Never Married     4980   882\n",
            "Widowed                  2042   229\n"
          ],
          "name": "stdout"
        },
        {
          "output_type": "execute_result",
          "data": {
            "text/plain": [
              "Text(0, 0.5, 'Distribution across the population')"
            ]
          },
          "metadata": {
            "tags": []
          },
          "execution_count": 199
        },
        {
          "output_type": "display_data",
          "data": {
            "image/png": "[encoded data removed]",
            "text/plain": [
              "<Figure size 576x576 with 1 Axes>"
            ]
          },
          "metadata": {
            "tags": [],
            "needs_background": "light"
          }
        }
      ]
    },
    {
      "cell_type": "code",
      "metadata": {
        "id": "1G_7eNY9-kDC",
        "colab_type": "code",
        "colab": {
          "base_uri": "https://localhost:8080/",
          "height": 900
        },
        "outputId": "9b3ec157-9133-4d2a-a93b-418f285e32f9"
      },
      "source": [
        "# create crosstab dataframe\n",
        "employ_bank = pd.crosstab(index=finance['type_of_job'], columns=finance['has_a_bank_account'])\n",
        "print(employ_bank)\n",
        "# plot chart from the dataframe\n",
        "employ_bank.plot(kind=\"bar\", figsize=(8,8), stacked=True)\n",
        "# labelling chart\n",
        "plt.title(\"Effect of employment status to possession of bank account\")\n",
        "plt.ylabel(\"Distribution across the population\")"
      ],
      "execution_count": 200,
      "outputs": [
        {
          "output_type": "stream",
          "text": [
            "has_a_bank_account              No  Yes\n",
            "type_of_job                            \n",
            "Dont Know/Refuse to answer     105   14\n",
            "Farming and Fishing           3406  583\n",
            "Formally employed Government    85  288\n",
            "Formally employed Private      460  523\n",
            "Government Dependent           171   42\n",
            "Informally employed           4017  418\n",
            "No Income                      523   13\n",
            "Other Income                   816  182\n",
            "Remittance Dependent          1903  217\n",
            "Self employed                 3884  793\n"
          ],
          "name": "stdout"
        },
        {
          "output_type": "execute_result",
          "data": {
            "text/plain": [
              "Text(0, 0.5, 'Distribution across the population')"
            ]
          },
          "metadata": {
            "tags": []
          },
          "execution_count": 200
        },
        {
          "output_type": "display_data",
          "data": {
            "image/png": "[encoded data removed]",
            "text/plain": [
              "<Figure size 576x576 with 1 Axes>"
            ]
          },
          "metadata": {
            "tags": [],
            "needs_background": "light"
          }
        }
      ]
    },
    {
      "cell_type": "code",
      "metadata": {
        "id": "uTST2lnV_FE4",
        "colab_type": "code",
        "colab": {
          "base_uri": "https://localhost:8080/",
          "height": 625
        },
        "outputId": "4fa65b9c-24c1-42ad-ad31-cb9ce36fdb63"
      },
      "source": [
        "# create crosstab dataframe\n",
        "location_bank = pd.crosstab(index=finance['type_of_location'], columns=finance['has_a_bank_account'])\n",
        "print(location_bank)\n",
        "# plot chart\n",
        "location_bank.plot(kind=\"bar\", figsize=(8,8))\n",
        "# label chart\n",
        "plt.title(\"Effect of area of residence to possession of bank account\")\n",
        "plt.ylabel(\"Distribution across the population\")"
      ],
      "execution_count": 201,
      "outputs": [
        {
          "output_type": "stream",
          "text": [
            "has_a_bank_account    No   Yes\n",
            "type_of_location              \n",
            "Rural               9739  1540\n",
            "Urban               5631  1533\n"
          ],
          "name": "stdout"
        },
        {
          "output_type": "execute_result",
          "data": {
            "text/plain": [
              "Text(0, 0.5, 'Distribution across the population')"
            ]
          },
          "metadata": {
            "tags": []
          },
          "execution_count": 201
        },
        {
          "output_type": "display_data",
          "data": {
            "image/png": "[encoded data removed]",
            "text/plain": [
              "<Figure size 576x576 with 1 Axes>"
            ]
          },
          "metadata": {
            "tags": [],
            "needs_background": "light"
          }
        }
      ]
    },
    {
      "cell_type": "code",
      "metadata": {
        "id": "La8Tvsc9BLCJ",
        "colab_type": "code",
        "colab": {
          "base_uri": "https://localhost:8080/",
          "height": 756
        },
        "outputId": "c47d4be2-ff88-40a6-da07-58c84fc1552e"
      },
      "source": [
        "# create crosstab dataframe\n",
        "housesize_bank = pd.crosstab(index=finance['household_size'], columns=finance['has_a_bank_account'])\n",
        "print(housesize_bank)\n",
        "# plot chart\n",
        "housesize_bank.plot(kind=\"bar\", figsize=(8,8), stacked=True)\n",
        "# label chart\n",
        "plt.title(\"Effect of household size to possession of bank account\")\n",
        "plt.ylabel(\"Distribution across the population\")"
      ],
      "execution_count": 202,
      "outputs": [
        {
          "output_type": "stream",
          "text": [
            "has_a_bank_account    No  Yes\n",
            "household_size               \n",
            "0.0                   29    1\n",
            "1.0                 2750  627\n",
            "2.0                 3022  589\n",
            "3.0                 2427  474\n",
            "4.0                 2091  450\n",
            "5.0                 1786  393\n",
            "6.0                 1403  251\n",
            "7.0                  998  169\n",
            "8.0                  562   83\n",
            "9.0                  302   36\n"
          ],
          "name": "stdout"
        },
        {
          "output_type": "execute_result",
          "data": {
            "text/plain": [
              "Text(0, 0.5, 'Distribution across the population')"
            ]
          },
          "metadata": {
            "tags": []
          },
          "execution_count": 202
        },
        {
          "output_type": "display_data",
          "data": {
            "image/png": "[encoded data removed]",
            "text/plain": [
              "<Figure size 576x576 with 1 Axes>"
            ]
          },
          "metadata": {
            "tags": [],
            "needs_background": "light"
          }
        }
      ]
    },
    {
      "cell_type": "code",
      "metadata": {
        "id": "V4_Uf4J0Bc96",
        "colab_type": "code",
        "colab": {
          "base_uri": "https://localhost:8080/",
          "height": 611
        },
        "outputId": "1ad557c0-2204-4e9d-c873-3548585665c6"
      },
      "source": [
        "# create crosstab dataframe\n",
        "cellphone_bank = pd.crosstab(index=finance['cell_phone_access'], columns=finance['has_a_bank_account'])\n",
        "print(cellphone_bank)\n",
        "# plot chart\n",
        "cellphone_bank.plot(kind=\"bar\", figsize=(8,8))\n",
        "# labelling chart\n",
        "plt.title(\"Effect of cell phone accessibility to possession of bank account\")\n",
        "plt.ylabel(\"Distribution across the population\")"
      ],
      "execution_count": 203,
      "outputs": [
        {
          "output_type": "stream",
          "text": [
            "has_a_bank_account     No   Yes\n",
            "cell_phone_access              \n",
            "No                   4647    95\n",
            "Yes                 10723  2978\n"
          ],
          "name": "stdout"
        },
        {
          "output_type": "execute_result",
          "data": {
            "text/plain": [
              "Text(0, 0.5, 'Distribution across the population')"
            ]
          },
          "metadata": {
            "tags": []
          },
          "execution_count": 203
        },
        {
          "output_type": "display_data",
          "data": {
            "image/png": "[encoded data removed]",
            "text/plain": [
              "<Figure size 576x576 with 1 Axes>"
            ]
          },
          "metadata": {
            "tags": [],
            "needs_background": "light"
          }
        }
      ]
    },
    {
      "cell_type": "code",
      "metadata": {
        "id": "dPhrX1lEB2DN",
        "colab_type": "code",
        "colab": {
          "base_uri": "https://localhost:8080/",
          "height": 764
        },
        "outputId": "ec5c9947-4b13-4185-e8b7-1a011cc47d94"
      },
      "source": [
        "# create crosstab dataframe\n",
        "relation_withhead_bank = pd.crosstab(index=finance['relationship_with_head'], columns=finance['has_a_bank_account'])\n",
        "print(relation_withhead_bank)\n",
        "# plot chart\n",
        "relation_withhead_bank.plot(kind=\"bar\", figsize=(8,8), stacked=True)\n",
        "# label chart\n",
        "plt.title(\"Relation of respondent's relationship with head of household to possession of bank account\")\n",
        "plt.ylabel(\"Distribution across the population\")"
      ],
      "execution_count": 204,
      "outputs": [
        {
          "output_type": "stream",
          "text": [
            "has_a_bank_account        No   Yes\n",
            "relationship_with_head            \n",
            "Child                   1636   184\n",
            "Head of Household       8195  2095\n",
            "Other non-relatives      158    19\n",
            "Other relative           566    64\n",
            "Parent                   890    58\n",
            "Spouse                  3925   653\n"
          ],
          "name": "stdout"
        },
        {
          "output_type": "execute_result",
          "data": {
            "text/plain": [
              "Text(0, 0.5, 'Distribution across the population')"
            ]
          },
          "metadata": {
            "tags": []
          },
          "execution_count": 204
        },
        {
          "output_type": "display_data",
          "data": {
            "image/png": "[encoded data removed]",
            "text/plain": [
              "<Figure size 576x576 with 1 Axes>"
            ]
          },
          "metadata": {
            "tags": [],
            "needs_background": "light"
          }
        }
      ]
    },
    {
      "cell_type": "markdown",
      "metadata": {
        "id": "_Gfz153ho_tL",
        "colab_type": "text"
      },
      "source": [
        "## Multivariate Analysis"
      ]
    },
    {
      "cell_type": "markdown",
      "metadata": {
        "id": "LdzRtl0dopRI",
        "colab_type": "text"
      },
      "source": [
        "# Findings"
      ]
    },
    {
      "cell_type": "markdown",
      "metadata": {
        "id": "401g2_RHovgU",
        "colab_type": "text"
      },
      "source": [
        "After univariate analysis, it was found that :\n",
        "- a huge population of the respondents in the four countries did not have or use a bank account.\n",
        "- most individuals live in rural areas\n",
        "- the most popular family/household size is 2\n",
        "- a huge number of the respondents are of age 30, while the mean of the ages of all respondents was 39.\n",
        "- a large population of the respondents were female.\n",
        "- huge number of the respondents were heads of the household, followed by spouses.\n",
        "- most individuals in the population were married and the next most highest were single individuals.\n",
        "- most respondents had only studied upto primary level of education. Very few had studied upto the tertiary level. \n",
        "- a huge number of the respondent population were self-employed\n",
        "\n"
      ]
    },
    {
      "cell_type": "markdown",
      "metadata": {
        "id": "OOsrEy35qqWB",
        "colab_type": "text"
      },
      "source": [
        "After bivariate analysis by country, it was found that: \n",
        "- Rwanda recorded a huge number of individuals without a bank account. Kenya however, recorded a relatively high number of individuals possessing a bank account. \n",
        "- the distribution of accessibility to cell phone was fairly distributed across the countries with Tanzania having a relatively huge population with no access to a cell phone\n",
        "- most respondents from Tanzania reside in urban areas, while in Rwanda a huge population live in rural areas\n",
        "- in Tanzania, most respondents live in household sizes of 1 or 2 people\n",
        "- most respondents in Kenya, Rwanda and Uganda are married while in Uganda, a huge population are single/never married\n",
        "- a huge population of the respondents from Kenya and Rwanda do farming and fishing as their income source, while in Uganda and Tanzania,a huge population are self-employed\n",
        "\n"
      ]
    },
    {
      "cell_type": "markdown",
      "metadata": {
        "id": "FiCV6shPuqWZ",
        "colab_type": "text"
      },
      "source": [
        "After bivariate analysis by demographic factors, it was found that:\n",
        "- most individuals who had gone through higher education i.e. tertiary level or vocational training, have/use a bank account, hence the bars are almost equal\n",
        "- a huge population of individuals of ages 30, 35, 40, 42 had bank accounts\n",
        "- as much as females dominated the respondents population, males who have/use a bank account were relatively more than the females who use a bank account\n",
        "- most respondents who are married have a bank account followed by those who are single\n",
        "- more individuals that are self employed have a bank account, followed by farmers, formally employed privately and informally employed\n",
        "- area of residence did not have a huge effect on bank account possession as more individuals living in the rural areas had a bank account compared to those in urban areas\n",
        "- individuals who live in households with a smaller size tend to own a bank account\n",
        "- more individuals that have access to a cell phone have a bank account. This could be due to the accessiblity of mobile banking, online banking services which can be done on the phone.\n",
        "- more individuals that are head of household have a a bank account followed by spouses. This could be due to the responsibilities that generally fall onto the head of the household that leads them to budgeting, saving for the future and hence having a bank account to manage finances."
      ]
    }
  ]
}